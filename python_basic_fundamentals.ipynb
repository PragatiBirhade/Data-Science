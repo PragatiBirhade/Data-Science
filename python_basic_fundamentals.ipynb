{
  "nbformat": 4,
  "nbformat_minor": 0,
  "metadata": {
    "colab": {
      "provenance": [],
      "authorship_tag": "ABX9TyOnP7fv06KaBIQT3X3c+SlZ",
      "include_colab_link": true
    },
    "kernelspec": {
      "name": "python3",
      "display_name": "Python 3"
    },
    "language_info": {
      "name": "python"
    }
  },
  "cells": [
    {
      "cell_type": "markdown",
      "metadata": {
        "id": "view-in-github",
        "colab_type": "text"
      },
      "source": [
        "<a href=\"https://colab.research.google.com/github/PragatiBirhade/Data-Science-demo/blob/main/python_basic_fundamentals.ipynb\" target=\"_parent\"><img src=\"https://colab.research.google.com/assets/colab-badge.svg\" alt=\"Open In Colab\"/></a>"
      ]
    },
    {
      "cell_type": "markdown",
      "source": [
        "**1.Python Output**\n"
      ],
      "metadata": {
        "id": "eSRUs-ZTkQa2"
      }
    },
    {
      "cell_type": "code",
      "source": [
        "print(\"Hello world\")"
      ],
      "metadata": {
        "colab": {
          "base_uri": "https://localhost:8080/"
        },
        "id": "uF8xpoYMkVNN",
        "outputId": "b381edae-f351-4fd6-e1a4-2741e931068c"
      },
      "execution_count": null,
      "outputs": [
        {
          "output_type": "stream",
          "name": "stdout",
          "text": [
            "Hello world\n"
          ]
        }
      ]
    },
    {
      "cell_type": "markdown",
      "source": [
        "**Data Types**\n"
      ],
      "metadata": {
        "id": "YcRc2Gzkk_Um"
      }
    },
    {
      "cell_type": "code",
      "source": [
        "print('hello',1,4.5,True)"
      ],
      "metadata": {
        "colab": {
          "base_uri": "https://localhost:8080/"
        },
        "id": "qeVY0cGJnMKL",
        "outputId": "974a0bd1-9b43-4fab-a7c5-df49f5acfee7"
      },
      "execution_count": null,
      "outputs": [
        {
          "output_type": "stream",
          "name": "stdout",
          "text": [
            "hello 1 4.5 True\n"
          ]
        }
      ]
    },
    {
      "cell_type": "code",
      "source": [
        "print('hello',1,4.5,True,sep='//')"
      ],
      "metadata": {
        "colab": {
          "base_uri": "https://localhost:8080/"
        },
        "id": "wHbw3mA8n6d-",
        "outputId": "99080d06-cbab-4817-a298-a7a3a0e2b3e3"
      },
      "execution_count": null,
      "outputs": [
        {
          "output_type": "stream",
          "name": "stdout",
          "text": [
            "hello//1//4.5//True\n"
          ]
        }
      ]
    },
    {
      "cell_type": "code",
      "source": [
        "print('hello',end='-')\n",
        "print('world')"
      ],
      "metadata": {
        "colab": {
          "base_uri": "https://localhost:8080/"
        },
        "id": "hWFB0mvQomsI",
        "outputId": "1a73e635-7d6f-444b-82aa-9e1244d2c184"
      },
      "execution_count": null,
      "outputs": [
        {
          "output_type": "stream",
          "name": "stdout",
          "text": [
            "hello-world\n"
          ]
        }
      ]
    },
    {
      "cell_type": "code",
      "source": [
        "#integer\n",
        "print(1e309)"
      ],
      "metadata": {
        "colab": {
          "base_uri": "https://localhost:8080/"
        },
        "id": "HoCi-gncruAz",
        "outputId": "a01dd96e-6cd7-4ad0-fb3c-bd69f3760f9f"
      },
      "execution_count": null,
      "outputs": [
        {
          "output_type": "stream",
          "name": "stdout",
          "text": [
            "inf\n"
          ]
        }
      ]
    },
    {
      "cell_type": "code",
      "source": [
        "#decimal/float\n",
        "print(8.55)\n",
        "print(1.7e309)\n"
      ],
      "metadata": {
        "colab": {
          "base_uri": "https://localhost:8080/"
        },
        "id": "SBtKkyaBr8tQ",
        "outputId": "59f54c93-7272-4c4c-c43a-05b31f8eb066"
      },
      "execution_count": null,
      "outputs": [
        {
          "output_type": "stream",
          "name": "stdout",
          "text": [
            "8.55\n",
            "inf\n"
          ]
        }
      ]
    },
    {
      "cell_type": "code",
      "source": [
        "#Boolen\n",
        "print(True)"
      ],
      "metadata": {
        "colab": {
          "base_uri": "https://localhost:8080/"
        },
        "id": "FeKgJcQ4A6NC",
        "outputId": "4d1ce9b1-fc93-45ac-98e7-11a1db4373d0"
      },
      "execution_count": null,
      "outputs": [
        {
          "output_type": "stream",
          "name": "stdout",
          "text": [
            "True\n"
          ]
        }
      ]
    },
    {
      "cell_type": "code",
      "source": [
        "#complex\n",
        "print(5+6j)"
      ],
      "metadata": {
        "colab": {
          "base_uri": "https://localhost:8080/"
        },
        "id": "7hEKXzeKBJhG",
        "outputId": "081c58a1-6f5a-416d-dd2e-44011b9447c1"
      },
      "execution_count": null,
      "outputs": [
        {
          "output_type": "stream",
          "name": "stdout",
          "text": [
            "(5+6j)\n"
          ]
        }
      ]
    },
    {
      "cell_type": "code",
      "source": [
        "#list\n",
        "print([1,2,3,4,5])"
      ],
      "metadata": {
        "colab": {
          "base_uri": "https://localhost:8080/"
        },
        "id": "ODeYQH4BBcJr",
        "outputId": "9d7f7126-ee8d-4a69-9f94-1569513cbd0e"
      },
      "execution_count": null,
      "outputs": [
        {
          "output_type": "stream",
          "name": "stdout",
          "text": [
            "[1, 2, 3, 4, 5]\n"
          ]
        }
      ]
    },
    {
      "cell_type": "code",
      "source": [
        "#tuple\n",
        "print((1,2,3,4,5))"
      ],
      "metadata": {
        "colab": {
          "base_uri": "https://localhost:8080/"
        },
        "id": "YcYGlwe7BgUX",
        "outputId": "4a2d1d09-43e3-427b-ca52-7292a7e1d90f"
      },
      "execution_count": null,
      "outputs": [
        {
          "output_type": "stream",
          "name": "stdout",
          "text": [
            "(1, 2, 3, 4, 5)\n"
          ]
        }
      ]
    },
    {
      "cell_type": "code",
      "source": [
        "#sets\n",
        "print({1,2,3,4,5})"
      ],
      "metadata": {
        "colab": {
          "base_uri": "https://localhost:8080/"
        },
        "id": "aPmmiPxsBoE_",
        "outputId": "4d9142c4-3348-4cf2-f204-d3555c58ba8a"
      },
      "execution_count": null,
      "outputs": [
        {
          "output_type": "stream",
          "name": "stdout",
          "text": [
            "{1, 2, 3, 4, 5}\n"
          ]
        }
      ]
    },
    {
      "cell_type": "code",
      "source": [
        "\n",
        "#dictionaries\n",
        "print({'name':'pragati','gender':'female','weight':70})"
      ],
      "metadata": {
        "colab": {
          "base_uri": "https://localhost:8080/"
        },
        "id": "9nbKaRc1Bzj9",
        "outputId": "76661480-a4e1-48aa-87b4-7926a14c656b"
      },
      "execution_count": null,
      "outputs": [
        {
          "output_type": "stream",
          "name": "stdout",
          "text": [
            "{'name': 'pragati', 'gender': 'female', 'weight': 70}\n"
          ]
        }
      ]
    },
    {
      "cell_type": "markdown",
      "source": [
        "**3.variable**"
      ],
      "metadata": {
        "id": "9FhApAjfNKGg"
      }
    },
    {
      "cell_type": "code",
      "source": [
        "#static vs Dyanamic typing\n",
        "#static vs dyanamic binding\n",
        "#static declaration techniques"
      ],
      "metadata": {
        "id": "ZdltQEjlNN6a"
      },
      "execution_count": null,
      "outputs": []
    },
    {
      "cell_type": "code",
      "source": [
        "#c/c++\n",
        "name ='pragati'\n",
        "print(name)\n",
        "\n",
        "a = 5\n",
        "b =6\n",
        "print(a+b)"
      ],
      "metadata": {
        "colab": {
          "base_uri": "https://localhost:8080/"
        },
        "id": "sOQM7BxiN-bN",
        "outputId": "c658b356-fd50-46d4-d72c-51df04ecdc06"
      },
      "execution_count": null,
      "outputs": [
        {
          "output_type": "stream",
          "name": "stdout",
          "text": [
            "pragati\n",
            "11\n"
          ]
        }
      ]
    },
    {
      "cell_type": "markdown",
      "source": [
        "**4.Dyanamic vs Static Data typing**"
      ],
      "metadata": {
        "id": "kz8hcSByPCsE"
      }
    },
    {
      "cell_type": "code",
      "source": [
        "#Dyanamic Typing that support python\n",
        "#--->u do not tell the value of data type means u don't declare data type of variable\n",
        "a = 5\n",
        "#static typing support c,cpp,java\n",
        "#------>u declare data type before create variable like int,float,boolean etc\n",
        "int a =5"
      ],
      "metadata": {
        "id": "5sOLPKxYOMf-"
      },
      "execution_count": null,
      "outputs": []
    },
    {
      "cell_type": "markdown",
      "source": [
        "**5.Dyanamic Binding or Static Binding**"
      ],
      "metadata": {
        "id": "tsiQhuqdPdlz"
      }
    },
    {
      "cell_type": "code",
      "source": [
        "#Dyanamic Binding --->whole program mai hum kabhi bhi data type change kar sakte hai--->python support dynamic binding feature\n",
        "a = 5\n",
        "print(a)\n",
        "a = 'pragati'\n",
        "print(a)\n",
        "\n",
        "#static Binding ---> whole program mai hum assign kiya huaa data type change nhi kar sakte -----> c,cpp,java support static binding feature\n",
        "int a = 5\n",
        "char a = 'abc'"
      ],
      "metadata": {
        "id": "c5x4DWqsPc1u"
      },
      "execution_count": null,
      "outputs": []
    },
    {
      "cell_type": "code",
      "source": [
        "a = 1\n",
        "b = 2\n",
        "c = 3\n",
        "print(a,b,c)\n",
        "\n",
        "#or\n",
        "a,b,c = 1,2,3\n",
        "print(a,b,c)\n"
      ],
      "metadata": {
        "colab": {
          "base_uri": "https://localhost:8080/"
        },
        "id": "iEUAIPNBRD9F",
        "outputId": "9b2507e5-9264-4269-e525-c1d2f269de77"
      },
      "execution_count": null,
      "outputs": [
        {
          "output_type": "stream",
          "name": "stdout",
          "text": [
            "1 2 3\n",
            "1 2 3\n"
          ]
        }
      ]
    },
    {
      "cell_type": "code",
      "source": [
        "a=b=c= 5\n",
        "print(a,b,c)"
      ],
      "metadata": {
        "colab": {
          "base_uri": "https://localhost:8080/"
        },
        "id": "LMIuFng-RhPa",
        "outputId": "3b5271c4-1df5-40be-a2d8-988c502e6551"
      },
      "execution_count": null,
      "outputs": [
        {
          "output_type": "stream",
          "name": "stdout",
          "text": [
            "5 5 5\n"
          ]
        }
      ]
    },
    {
      "cell_type": "code",
      "source": [
        "#take input from user and store them in a variable\n",
        "fnum = int(input('enter first number'))\n",
        "snum = int(input('enter second number'))\n",
        "# add the 2 variable\n",
        "result = fnum + snum\n",
        "print('result = ' ,result)"
      ],
      "metadata": {
        "colab": {
          "base_uri": "https://localhost:8080/"
        },
        "id": "nUlz2B4xVmRE",
        "outputId": "960ba99d-bb8a-4a57-c885-b59b2e68d5c6"
      },
      "execution_count": null,
      "outputs": [
        {
          "output_type": "stream",
          "name": "stdout",
          "text": [
            "enter first number78\n",
            "enter second number89\n",
            "result =  167\n"
          ]
        }
      ]
    },
    {
      "cell_type": "markdown",
      "source": [
        "**6.Type Conversion**"
      ],
      "metadata": {
        "id": "fBsDwJL0WtjZ"
      }
    },
    {
      "cell_type": "code",
      "source": [
        "#implicit & Explicit   ----> ek data tye ko dusre data type mai convert karna\n",
        "#implicit--->means jaha pe type coversion internally ,automatically ,interpreter khud kar deta hai,no need to of programmer to convert them\n",
        "#Explicit ----->means jo programmer khudse request karta hai python ko ki that type change karo data ka"
      ],
      "metadata": {
        "id": "NAbwgOTHW3CT"
      },
      "execution_count": null,
      "outputs": []
    },
    {
      "cell_type": "code",
      "source": [
        "#explicit\n",
        "#str  --> int\n",
        "int(4.5j)    ---> complex to integer convert nhi ho sakta"
      ],
      "metadata": {
        "colab": {
          "base_uri": "https://localhost:8080/",
          "height": 176
        },
        "id": "m_cd2PB7i6Rj",
        "outputId": "dcaf9a8c-2563-4c14-d54f-0aeaead59fea"
      },
      "execution_count": null,
      "outputs": [
        {
          "output_type": "error",
          "ename": "TypeError",
          "evalue": "int() argument must be a string, a bytes-like object or a real number, not 'complex'",
          "traceback": [
            "\u001b[0;31m---------------------------------------------------------------------------\u001b[0m",
            "\u001b[0;31mTypeError\u001b[0m                                 Traceback (most recent call last)",
            "\u001b[0;32m<ipython-input-1-bb5cb4738a75>\u001b[0m in \u001b[0;36m<cell line: 3>\u001b[0;34m()\u001b[0m\n\u001b[1;32m      1\u001b[0m \u001b[0;31m#explicit\u001b[0m\u001b[0;34m\u001b[0m\u001b[0;34m\u001b[0m\u001b[0m\n\u001b[1;32m      2\u001b[0m \u001b[0;31m#str  --> int\u001b[0m\u001b[0;34m\u001b[0m\u001b[0;34m\u001b[0m\u001b[0m\n\u001b[0;32m----> 3\u001b[0;31m \u001b[0mint\u001b[0m\u001b[0;34m(\u001b[0m\u001b[0;36m4.5j\u001b[0m\u001b[0;34m)\u001b[0m\u001b[0;34m\u001b[0m\u001b[0;34m\u001b[0m\u001b[0m\n\u001b[0m",
            "\u001b[0;31mTypeError\u001b[0m: int() argument must be a string, a bytes-like object or a real number, not 'complex'"
          ]
        }
      ]
    },
    {
      "cell_type": "markdown",
      "source": [
        "**7.Literals**"
      ],
      "metadata": {
        "id": "NZPTQwz8Wy7_"
      }
    },
    {
      "cell_type": "code",
      "source": [
        "# kisi bhi value ko aap store kar rahe ho variable ke ander usse  literal bola jate hai\n",
        "\n",
        "\n",
        "a = 0b1010\n",
        "b = 100\n",
        "c = 0o310\n",
        "d = 0x12c\n",
        "\n",
        "#float literal\n",
        "float_1 = 10.5\n",
        "float_2 = 1.5e2\n",
        "float_3 = 1.5e-3\n",
        "\n",
        "#complex Literal\n",
        "x = 3.14j"
      ],
      "metadata": {
        "id": "RMoPbc3ckSU1"
      },
      "execution_count": null,
      "outputs": []
    },
    {
      "cell_type": "markdown",
      "source": [
        "**8.Operator**"
      ],
      "metadata": {
        "id": "NMxGw0Um-IXe"
      }
    },
    {
      "cell_type": "code",
      "source": [
        "#Relational Operator\n",
        "print(4<5)\n",
        "#<,>,=,!=,<=,>=  etc\n",
        "\n",
        "\n",
        "#Logical Operator\n",
        "print(1 and 0)\n",
        "print(not 1)\n",
        "print(1 or 0)\n",
        "\n",
        "\n",
        "#Arithmetic operator\n",
        "#+,-,*,%,/\n",
        "\n",
        "\n",
        "#Bitwise Operator\n",
        "#1.Bitwise and    ---.2 ==010  ,3 ==110  ya doghanvr binary operation lavaych like unit place pasun 0 or 1 =1 etc\n",
        "print(2 & 3)\n",
        "\n",
        "#2. Bitwise or\n",
        "print(2 | 3)\n",
        "\n",
        "#3. Bitwise xor    ----> dono same honge to =0, dono alag homge to =1   ,ex if (1 ^1 ==0),(1^2 == 1)\n",
        "print(2 ^3)\n",
        "print(~3)\n",
        "print(4 >>2)\n",
        "print(5 <<2)\n",
        "\n",
        "\n",
        "\n",
        "# 4.Assignment Operator\n",
        "# =\n",
        "#a =2\n",
        "\n",
        "\n",
        "\n",
        "\n",
        "#5. Membership Operator\n",
        "\n",
        "# in/not in\n",
        "print('d' in 'delhi')"
      ],
      "metadata": {
        "colab": {
          "base_uri": "https://localhost:8080/"
        },
        "id": "1OMNS9pt-GlC",
        "outputId": "03684502-6470-4aad-8b11-a11a62ef052e"
      },
      "execution_count": null,
      "outputs": [
        {
          "output_type": "stream",
          "name": "stdout",
          "text": [
            "True\n",
            "0\n",
            "False\n",
            "1\n",
            "2\n",
            "3\n",
            "1\n"
          ]
        }
      ]
    },
    {
      "cell_type": "markdown",
      "source": [
        "**If else in python**"
      ],
      "metadata": {
        "id": "5trHpFE4s5Lj"
      }
    },
    {
      "cell_type": "code",
      "source": [
        "#login program and indentation\n",
        "#email --->pragatibirhade522@gmail.com\n",
        "# password --.pragati@123\n",
        "\n",
        "\n",
        "email = input('enter email ')\n",
        "password = input('enter password ')\n",
        "\n",
        "if email =='pragatibirhade522@gmail.com' and password =='1234':\n",
        "  print('welcome')\n",
        "else:\n",
        "  print('email and password are not correct')"
      ],
      "metadata": {
        "colab": {
          "base_uri": "https://localhost:8080/"
        },
        "id": "7S6TuzQQs-nK",
        "outputId": "eee8f134-213d-480a-ba26-218221a1fcd3"
      },
      "execution_count": null,
      "outputs": [
        {
          "output_type": "stream",
          "name": "stdout",
          "text": [
            "enter email pragatibirhade522@gmail.com\n",
            "enter password 1234\n",
            "welcome\n"
          ]
        }
      ]
    },
    {
      "cell_type": "code",
      "source": [
        "email = input('enter email ')\n",
        "password = input('enter password ')\n",
        "\n",
        "if email =='pragatibirhade522@gmail.com' or password =='1234':\n",
        "  print('welcome')\n",
        "else:\n",
        "  print('email and password are not correct')"
      ],
      "metadata": {
        "colab": {
          "base_uri": "https://localhost:8080/"
        },
        "id": "iWbF8AVXzecv",
        "outputId": "e783e477-7162-4710-9692-3d065d4fc5b8"
      },
      "execution_count": null,
      "outputs": [
        {
          "output_type": "stream",
          "name": "stdout",
          "text": [
            "enter email huijefdkvhkeriukgh\n",
            "enter password 1234\n",
            "welcome\n"
          ]
        }
      ]
    },
    {
      "cell_type": "code",
      "source": [
        "email = input('enter email ')\n",
        "password = input('enter password ')\n",
        "\n",
        "if email =='pragatibirhade522@gmail.com' and password !='1234':\n",
        "  print('incorrect password')\n",
        "  password = input('enter password again')\n",
        "  if password == '1234':\n",
        "    print('welcome')\n",
        "  else:\n",
        "    print('correct it')\n",
        "else:\n",
        "  print('email and password are not correct')"
      ],
      "metadata": {
        "colab": {
          "base_uri": "https://localhost:8080/"
        },
        "id": "-JiEja1I0NNn",
        "outputId": "6f6ba64e-1472-4aec-b454-7cbc73544931"
      },
      "execution_count": null,
      "outputs": [
        {
          "output_type": "stream",
          "name": "stdout",
          "text": [
            "enter email pragatibirhade522@gmail.com\n",
            "enter password 4567\n",
            "incorrect password\n",
            "enter password again1234\n",
            "welcome\n"
          ]
        }
      ]
    },
    {
      "cell_type": "code",
      "source": [
        "# 2.find the mean of three given number\n",
        "\n",
        "a = int(input('first num'))\n",
        "b = int(input('second num'))\n",
        "c = int(input('third num'))\n",
        "\n",
        "if a<b and a<c:\n",
        "  print('smallest no. is ',a)\n",
        "elif b<c:\n",
        "  print('smallest is ',b)\n",
        "else:\n",
        "  print('smallest is ',c)"
      ],
      "metadata": {
        "colab": {
          "base_uri": "https://localhost:8080/"
        },
        "id": "7Atolr1G17eQ",
        "outputId": "5fac1c80-d98d-48a3-9c14-815418bdd5eb"
      },
      "execution_count": null,
      "outputs": [
        {
          "output_type": "stream",
          "name": "stdout",
          "text": [
            "first num34\n",
            "second num67\n",
            "third num89\n",
            "smallest no. is  34\n"
          ]
        }
      ]
    },
    {
      "cell_type": "code",
      "source": [
        "a,b,c = int((input('1st'),()'2nd'),('3rd'))\n",
        "\n",
        "if a<b and a<c:\n",
        "  print('smallest no. is ',a)\n",
        "elif b<c:\n",
        "  print('smallest is ',b)\n",
        "else:\n",
        "  print('smallest is ',c)"
      ],
      "metadata": {
        "colab": {
          "base_uri": "https://localhost:8080/",
          "height": 106
        },
        "id": "gAHR2CTA3SnU",
        "outputId": "a2a845b2-7eef-48ae-8ff1-f731a79b23d5"
      },
      "execution_count": null,
      "outputs": [
        {
          "output_type": "error",
          "ename": "SyntaxError",
          "evalue": "invalid syntax. Perhaps you forgot a comma? (<ipython-input-10-22ab3174eafe>, line 1)",
          "traceback": [
            "\u001b[0;36m  File \u001b[0;32m\"<ipython-input-10-22ab3174eafe>\"\u001b[0;36m, line \u001b[0;32m1\u001b[0m\n\u001b[0;31m    a,b,c = int((input('1st'),()'2nd'),('3rd'))\u001b[0m\n\u001b[0m                              ^\u001b[0m\n\u001b[0;31mSyntaxError\u001b[0m\u001b[0;31m:\u001b[0m invalid syntax. Perhaps you forgot a comma?\n"
          ]
        }
      ]
    },
    {
      "cell_type": "code",
      "source": [
        "# menu driven calculator\n",
        "fnum = int(input('enter the first number'))\n",
        "snum = int(input('enter the second number'))\n",
        "\n",
        "op = input('enter the operation')\n",
        "\n",
        "if op == '+':\n",
        "  print(fnum + snum)\n",
        "elif op == '-':\n",
        "  print(fnum - snum)\n",
        "elif op == '*':\n",
        "  print(fnum * snum)\n",
        "else:\n",
        "  print(fnum/snum)"
      ],
      "metadata": {
        "colab": {
          "base_uri": "https://localhost:8080/"
        },
        "id": "T9-efPP39MnN",
        "outputId": "49f4f1e4-e8b7-4a9d-dd30-cdc1efd4ee2e"
      },
      "execution_count": null,
      "outputs": [
        {
          "output_type": "stream",
          "name": "stdout",
          "text": [
            "enter the first number78\n",
            "enter the second number89\n",
            "enter the operation*\n",
            "6942\n"
          ]
        }
      ]
    },
    {
      "cell_type": "code",
      "source": [
        "# menu driven program\n",
        "menu = input(\"\"\"\n",
        "Hi! how can i help you.\n",
        "1.Enter 1 for pin chnage\n",
        "2. Enter 2 for balance check\n",
        "3. Enter 3 for withdrawl\n",
        "4. Enter 4 for Exit\n",
        "\"\"\"\n",
        ")\n",
        "\n",
        "if menu == '1':\n",
        "  print('pin change')\n",
        "elif menu == '2':\n",
        "  print('balance')\n",
        "else:\n",
        "  print('exit')"
      ],
      "metadata": {
        "colab": {
          "base_uri": "https://localhost:8080/"
        },
        "id": "xr3-qHEt_JZd",
        "outputId": "09b96bf6-3103-4582-d492-5433ca7f3e80"
      },
      "execution_count": null,
      "outputs": [
        {
          "output_type": "stream",
          "name": "stdout",
          "text": [
            "\n",
            "Hi! how can i help you.\n",
            "1.Enter 1 for pin chnage\n",
            "2. Enter 2 for balance check\n",
            "3. Enter 3 for withdrawl\n",
            "4. Enter 4 for Exit\n",
            "1\n",
            "pin change\n"
          ]
        }
      ]
    },
    {
      "cell_type": "markdown",
      "source": [
        "**Module in Python**\n",
        "\n",
        "1.   math\n",
        "2.   keywords\n",
        "3.   random\n",
        "4.   datetime\n",
        "\n"
      ],
      "metadata": {
        "id": "vNcJchRjA0Is"
      }
    },
    {
      "cell_type": "code",
      "source": [
        "#math\n",
        "import math\n",
        "\n",
        "math.factorial(5)\n",
        "math.floor(6.9)"
      ],
      "metadata": {
        "colab": {
          "base_uri": "https://localhost:8080/"
        },
        "id": "3VbCKechBGUI",
        "outputId": "46a33ce3-f1c6-4b13-b19f-ae71fad224a2"
      },
      "execution_count": null,
      "outputs": [
        {
          "output_type": "execute_result",
          "data": {
            "text/plain": [
              "6"
            ]
          },
          "metadata": {},
          "execution_count": 18
        }
      ]
    },
    {
      "cell_type": "code",
      "source": [
        "#keyword\n",
        "import keyword\n",
        "print(keyword.kwlist)"
      ],
      "metadata": {
        "colab": {
          "base_uri": "https://localhost:8080/"
        },
        "id": "lp0hnYmjBrsd",
        "outputId": "c0beeeb8-d680-4976-83d9-8fe4d2d07b9f"
      },
      "execution_count": null,
      "outputs": [
        {
          "output_type": "stream",
          "name": "stdout",
          "text": [
            "['False', 'None', 'True', 'and', 'as', 'assert', 'async', 'await', 'break', 'class', 'continue', 'def', 'del', 'elif', 'else', 'except', 'finally', 'for', 'from', 'global', 'if', 'import', 'in', 'is', 'lambda', 'nonlocal', 'not', 'or', 'pass', 'raise', 'return', 'try', 'while', 'with', 'yield']\n"
          ]
        }
      ]
    },
    {
      "cell_type": "code",
      "source": [
        "#random\n",
        "import random\n",
        "print(random.randint(1,100))"
      ],
      "metadata": {
        "colab": {
          "base_uri": "https://localhost:8080/"
        },
        "id": "ECfnJeQMCCKB",
        "outputId": "02501141-e7b6-4fed-9647-cad9fbd8ef3c"
      },
      "execution_count": null,
      "outputs": [
        {
          "output_type": "stream",
          "name": "stdout",
          "text": [
            "85\n"
          ]
        }
      ]
    },
    {
      "cell_type": "code",
      "source": [
        "#datetime\n",
        "import datetime\n",
        "print(datetime.datetime.now())"
      ],
      "metadata": {
        "colab": {
          "base_uri": "https://localhost:8080/"
        },
        "id": "47Hhu4ZWCTVS",
        "outputId": "fa561ca0-620f-4eb6-adf6-8fdbafa5bb0e"
      },
      "execution_count": null,
      "outputs": [
        {
          "output_type": "stream",
          "name": "stdout",
          "text": [
            "2024-03-30 11:06:12.908641\n"
          ]
        }
      ]
    },
    {
      "cell_type": "markdown",
      "source": [
        "**Loops in Python**    ------> Loops are essential in programming for automating repetitive tasks, iterating over collections, and processing data efficiently. They make our code concise, readable, and adaptable to different scenarios.\n"
      ],
      "metadata": {
        "id": "U8pS2BA-DQUL"
      }
    },
    {
      "cell_type": "code",
      "source": [
        "number = int(input('enter the number'))\n",
        "\n",
        "i = 1\n",
        "\n",
        "while i<11:\n",
        "  print(number * i)\n",
        "  i += 1"
      ],
      "metadata": {
        "id": "cT8nnKWVDNhv",
        "colab": {
          "base_uri": "https://localhost:8080/"
        },
        "outputId": "f7313cd7-1991-4cac-a8e3-6972b52487ce"
      },
      "execution_count": null,
      "outputs": [
        {
          "output_type": "stream",
          "name": "stdout",
          "text": [
            "enter the number7\n",
            "7\n",
            "14\n",
            "21\n",
            "28\n",
            "35\n",
            "42\n",
            "49\n",
            "56\n",
            "63\n",
            "70\n"
          ]
        }
      ]
    },
    {
      "cell_type": "code",
      "source": [
        "#while loop with else\n",
        "\n",
        "x = 1\n",
        "\n",
        "while x < 3:\n",
        "  print(x)\n",
        "  x += 1\n",
        "\n",
        "else:\n",
        "  print('limit crossed')"
      ],
      "metadata": {
        "id": "64rKHvSLNY_f"
      },
      "execution_count": null,
      "outputs": []
    },
    {
      "cell_type": "code",
      "source": [
        "from typing import Counter\n",
        "# Guessing game\n",
        "\n",
        "# generate a random integer between 1 and 100\n",
        "import random\n",
        "jackpot = random.randint(1,100)\n",
        "\n",
        "guess = int(input('guess karo'))\n",
        "counter = 1\n",
        "\n",
        "\n",
        "while guess != jackpot:\n",
        "  if guess < jackpot:\n",
        "    print('galat guess higher')\n",
        "  else:\n",
        "    print('galat guess lower')\n",
        "\n",
        "  guess = int(input('guess karo'))\n",
        "  counter += 1\n",
        "\n",
        "else:\n",
        "  print('correct guess')\n",
        "  print('attempts',counter)\n"
      ],
      "metadata": {
        "colab": {
          "base_uri": "https://localhost:8080/"
        },
        "id": "xbpk-BSgOWU8",
        "outputId": "062bf1bb-24d7-4097-cd4b-886f3fbdb550"
      },
      "execution_count": null,
      "outputs": [
        {
          "output_type": "stream",
          "name": "stdout",
          "text": [
            "guess karo6\n",
            "galat guess higher\n",
            "guess karo78\n",
            "galat guess lower\n",
            "guess karo50\n",
            "galat guess higher\n",
            "guess karo60\n",
            "galat guess lower\n",
            "guess karo55\n",
            "galat guess lower\n",
            "guess karo52\n",
            "correct guess\n",
            "attempts 6\n"
          ]
        }
      ]
    },
    {
      "cell_type": "code",
      "source": [
        "# for loop demo\n",
        "\n",
        "for i in range(11,1,-2):   #-----> start,end,step\n",
        "  print(i)"
      ],
      "metadata": {
        "colab": {
          "base_uri": "https://localhost:8080/"
        },
        "id": "Utwd4ZCAVwbm",
        "outputId": "15cd63f7-1d79-488b-ce21-36e901b0ad0f"
      },
      "execution_count": null,
      "outputs": [
        {
          "output_type": "stream",
          "name": "stdout",
          "text": [
            "11\n",
            "9\n",
            "7\n",
            "5\n",
            "3\n"
          ]
        }
      ]
    },
    {
      "cell_type": "code",
      "source": [
        "for i in 'delhi':\n",
        "  print(i)"
      ],
      "metadata": {
        "colab": {
          "base_uri": "https://localhost:8080/"
        },
        "id": "zfK74EEsWvUO",
        "outputId": "1b07846d-2d61-4d54-b0ee-3a802d599ddc"
      },
      "execution_count": null,
      "outputs": [
        {
          "output_type": "stream",
          "name": "stdout",
          "text": [
            "d\n",
            "e\n",
            "l\n",
            "h\n",
            "i\n"
          ]
        }
      ]
    },
    {
      "cell_type": "code",
      "source": [
        "for i in {1,2,3,4,5}:\n",
        "  print(i)"
      ],
      "metadata": {
        "colab": {
          "base_uri": "https://localhost:8080/"
        },
        "id": "TVMaYSxyXSXG",
        "outputId": "05c34605-c830-4e2c-8eee-242da1a7cba6"
      },
      "execution_count": null,
      "outputs": [
        {
          "output_type": "stream",
          "name": "stdout",
          "text": [
            "1\n",
            "2\n",
            "3\n",
            "4\n",
            "5\n"
          ]
        }
      ]
    },
    {
      "cell_type": "markdown",
      "source": [
        "1. Program ---> The current population of a town is 10000.the population of the town is increasing at the rate of 10% per year .you have to write a program to find out the population at the end of each of the last 10 years."
      ],
      "metadata": {
        "id": "GPapd3LNXgSb"
      }
    },
    {
      "cell_type": "code",
      "source": [
        "curr_pop = 10000\n",
        "\n",
        "for i in range(10,0,-1):\n",
        "  print(i,curr_pop)\n",
        "  curr_pop = curr_pop - curr_pop*0.1"
      ],
      "metadata": {
        "colab": {
          "base_uri": "https://localhost:8080/"
        },
        "id": "vUA0DDi7XWOB",
        "outputId": "d45c1d04-224b-45b2-edb3-38645fa1aabd"
      },
      "execution_count": null,
      "outputs": [
        {
          "output_type": "stream",
          "name": "stdout",
          "text": [
            "10 10000\n",
            "9 9000.0\n",
            "8 8100.0\n",
            "7 7290.0\n",
            "6 6561.0\n",
            "5 5904.9\n",
            "4 5314.41\n",
            "3 4782.969\n",
            "2 4304.6721\n",
            "1 3874.20489\n"
          ]
        }
      ]
    }
  ]
}