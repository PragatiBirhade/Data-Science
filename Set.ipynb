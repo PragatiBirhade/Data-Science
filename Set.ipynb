{
  "nbformat": 4,
  "nbformat_minor": 0,
  "metadata": {
    "colab": {
      "provenance": [],
      "authorship_tag": "ABX9TyMLI+bYCP0tlbhR/DNCc0xY",
      "include_colab_link": true
    },
    "kernelspec": {
      "name": "python3",
      "display_name": "Python 3"
    },
    "language_info": {
      "name": "python"
    }
  },
  "cells": [
    {
      "cell_type": "markdown",
      "metadata": {
        "id": "view-in-github",
        "colab_type": "text"
      },
      "source": [
        "<a href=\"https://colab.research.google.com/github/PragatiBirhade/Data-Science-demo/blob/main/Set.ipynb\" target=\"_parent\"><img src=\"https://colab.research.google.com/assets/colab-badge.svg\" alt=\"Open In Colab\"/></a>"
      ]
    },
    {
      "cell_type": "markdown",
      "source": [
        "**Sets**\n",
        "\n",
        "A set is an unordered collection of items. Every set element is unique(no duplicate)and must be immuatble(can not changed).\n",
        "\n",
        "however, a set itself is mutable.we can add or remove items from it.\n",
        "\n",
        "sets can also be used to perform mathematical set operations like union, intersection,symmetric difference, etc\n",
        "\n",
        "**characterstics:**\n",
        "\n",
        "\n",
        "1.   Unordered\n",
        "2.   Mutable\n",
        "3.   No duplicate\n",
        "4.   can't contain mutable data types\n"
      ],
      "metadata": {
        "id": "ImCFewPrcz5r"
      }
    },
    {
      "cell_type": "code",
      "execution_count": 1,
      "metadata": {
        "id": "XFo7WUS3cyph",
        "colab": {
          "base_uri": "https://localhost:8080/"
        },
        "outputId": "05c3962d-6a93-4a4a-9481-293598f6fbcf"
      },
      "outputs": [
        {
          "output_type": "stream",
          "name": "stdout",
          "text": [
            "set()\n",
            "<class 'set'>\n"
          ]
        }
      ],
      "source": [
        "#empty\n",
        "s = set()\n",
        "print(s)\n",
        "print(type(s))"
      ]
    },
    {
      "cell_type": "code",
      "source": [
        "#homo and hetro     ------> lonsa item kis position pe jayega ye hashing decide karti hai,n yes set order ke form mai nhi output deta\n",
        "s1 = {1,'hello',4.5,(1,2,3)}\n",
        "print(s1)"
      ],
      "metadata": {
        "colab": {
          "base_uri": "https://localhost:8080/"
        },
        "id": "vW8nFIUudAIE",
        "outputId": "6560f288-7117-44c7-91d1-6c46fdc9f53a"
      },
      "execution_count": 2,
      "outputs": [
        {
          "output_type": "stream",
          "name": "stdout",
          "text": [
            "{1, (1, 2, 3), 4.5, 'hello'}\n"
          ]
        }
      ]
    },
    {
      "cell_type": "code",
      "source": [
        "s4 = set([1,2,3])\n",
        "print(s4)"
      ],
      "metadata": {
        "colab": {
          "base_uri": "https://localhost:8080/"
        },
        "id": "_oGvrmBMdeEh",
        "outputId": "7844a435-0110-4892-8c45-dcbb16badddf"
      },
      "execution_count": 4,
      "outputs": [
        {
          "output_type": "stream",
          "name": "stdout",
          "text": [
            "{1, 2, 3}\n"
          ]
        }
      ]
    },
    {
      "cell_type": "code",
      "source": [
        "# set duplicate item allow nhi karta\n",
        "s3 = {1,2,3,1,1,5,6,7,8,3,1}\n",
        "print(s3)"
      ],
      "metadata": {
        "colab": {
          "base_uri": "https://localhost:8080/"
        },
        "id": "2LawQubFdwHz",
        "outputId": "9a127f10-eb08-44cb-9b40-26179580dfa7"
      },
      "execution_count": 5,
      "outputs": [
        {
          "output_type": "stream",
          "name": "stdout",
          "text": [
            "{1, 2, 3, 5, 6, 7, 8}\n"
          ]
        }
      ]
    },
    {
      "cell_type": "code",
      "source": [
        "s1 = {1,2,3}\n",
        "s2 = {2,1,3}\n",
        "print(s1 == s2)    # this is false in list and tuple because they matter order ,and set does'nt\n"
      ],
      "metadata": {
        "colab": {
          "base_uri": "https://localhost:8080/"
        },
        "id": "C0M8x9REeaeC",
        "outputId": "9159ba78-2a1d-4b13-9a3e-5437214243e8"
      },
      "execution_count": 6,
      "outputs": [
        {
          "output_type": "stream",
          "name": "stdout",
          "text": [
            "True\n"
          ]
        }
      ]
    },
    {
      "cell_type": "markdown",
      "source": [
        "**set mai aap editing and accessing item according to index position nhi kar sakte ,because set index order follow nhi karta ,but aa set mai new elelment add kar sakate hai ,aur voh delete bhi kar sakate hai.**"
      ],
      "metadata": {
        "id": "zrj13Er0fL4T"
      }
    },
    {
      "cell_type": "markdown",
      "source": [
        "**Adding item in set**"
      ],
      "metadata": {
        "id": "tAZGp3tLfrOA"
      }
    },
    {
      "cell_type": "code",
      "source": [
        "s = {1,2,3,4}\n",
        "s.add(4)    ---> only take one argument\n",
        "print(s)"
      ],
      "metadata": {
        "colab": {
          "base_uri": "https://localhost:8080/"
        },
        "id": "duUwmEX-fum-",
        "outputId": "f6fff777-d6f9-4710-a940-11a109fcb40c"
      },
      "execution_count": 8,
      "outputs": [
        {
          "output_type": "stream",
          "name": "stdout",
          "text": [
            "{1, 2, 3, 4}\n"
          ]
        }
      ]
    },
    {
      "cell_type": "markdown",
      "source": [
        "**Update**"
      ],
      "metadata": {
        "id": "oK4qKYiJgACO"
      }
    },
    {
      "cell_type": "code",
      "source": [
        "s = {1,2,3,5}\n",
        "s.update([5,6,77,8,9])    #--------> update is used for to add multiple item\n",
        "print(s)"
      ],
      "metadata": {
        "colab": {
          "base_uri": "https://localhost:8080/"
        },
        "id": "jOeYT9jUgDt6",
        "outputId": "625d9e22-cbcc-41a6-9ea2-9f47b6110997"
      },
      "execution_count": 11,
      "outputs": [
        {
          "output_type": "stream",
          "name": "stdout",
          "text": [
            "{1, 2, 3, 5, 6, 8, 9, 77}\n"
          ]
        }
      ]
    },
    {
      "cell_type": "markdown",
      "source": [
        "**Deleting item**\n",
        "\n",
        "\n",
        "1.   del\n",
        "2.   discard\n",
        "3.   remove\n",
        "4.   pop\n",
        "5.   clear"
      ],
      "metadata": {
        "id": "iWpbFtrygrGt"
      }
    },
    {
      "cell_type": "code",
      "source": [
        "# del\n",
        "s = {1,2,3,4,5}\n",
        "print(s)\n",
        "del s    #------> pure set ko delete kar sakate hai but ek perticular item delete nhi kar sakate\n",
        "print(s)\n"
      ],
      "metadata": {
        "colab": {
          "base_uri": "https://localhost:8080/",
          "height": 193
        },
        "id": "j1BIihmHg9js",
        "outputId": "c7302697-6665-4ef5-cef4-c73dd79ad82d"
      },
      "execution_count": 12,
      "outputs": [
        {
          "output_type": "stream",
          "name": "stdout",
          "text": [
            "{1, 2, 3, 4, 5}\n"
          ]
        },
        {
          "output_type": "error",
          "ename": "NameError",
          "evalue": "name 's' is not defined",
          "traceback": [
            "\u001b[0;31m---------------------------------------------------------------------------\u001b[0m",
            "\u001b[0;31mNameError\u001b[0m                                 Traceback (most recent call last)",
            "\u001b[0;32m<ipython-input-12-065167881093>\u001b[0m in \u001b[0;36m<cell line: 5>\u001b[0;34m()\u001b[0m\n\u001b[1;32m      3\u001b[0m \u001b[0mprint\u001b[0m\u001b[0;34m(\u001b[0m\u001b[0ms\u001b[0m\u001b[0;34m)\u001b[0m\u001b[0;34m\u001b[0m\u001b[0;34m\u001b[0m\u001b[0m\n\u001b[1;32m      4\u001b[0m \u001b[0;32mdel\u001b[0m \u001b[0ms\u001b[0m\u001b[0;34m\u001b[0m\u001b[0;34m\u001b[0m\u001b[0m\n\u001b[0;32m----> 5\u001b[0;31m \u001b[0mprint\u001b[0m\u001b[0;34m(\u001b[0m\u001b[0ms\u001b[0m\u001b[0;34m)\u001b[0m\u001b[0;34m\u001b[0m\u001b[0;34m\u001b[0m\u001b[0m\n\u001b[0m",
            "\u001b[0;31mNameError\u001b[0m: name 's' is not defined"
          ]
        }
      ]
    },
    {
      "cell_type": "code",
      "source": [
        "# discard-----> jisbhi item ko aap delete karna chahte ho set ke ander aap kr sakate ho  --> if set ke ander voh item present nhi honga then discard item ko delete to nhi karta lekin but erroe throw nhi karta\n",
        "\n",
        "s = {1,2,3,4,5}\n",
        "s.discard(5)\n",
        "print(s)"
      ],
      "metadata": {
        "colab": {
          "base_uri": "https://localhost:8080/"
        },
        "id": "25dTgGyfhfwd",
        "outputId": "586f48ab-409f-4186-c133-24b53abfb012"
      },
      "execution_count": 13,
      "outputs": [
        {
          "output_type": "stream",
          "name": "stdout",
          "text": [
            "{1, 2, 3, 4}\n"
          ]
        }
      ]
    },
    {
      "cell_type": "code",
      "source": [
        "#remove  ----> if item is not exist in set then remove will throw an error\n",
        "s = {1,2,3,4,5}\n",
        "s.remove(5)\n",
        "print(s)\n"
      ],
      "metadata": {
        "colab": {
          "base_uri": "https://localhost:8080/"
        },
        "id": "HIr2t159mM-y",
        "outputId": "25e87bc7-c6fe-4011-e7e6-add94cb0cb75"
      },
      "execution_count": 16,
      "outputs": [
        {
          "output_type": "stream",
          "name": "stdout",
          "text": [
            "{1, 2, 3, 4}\n"
          ]
        }
      ]
    },
    {
      "cell_type": "markdown",
      "source": [],
      "metadata": {
        "id": "zOS2I8xoqjuJ"
      }
    },
    {
      "cell_type": "code",
      "source": [
        "# pop  ---> this funtion delete a random item in set\n",
        "s = {1,2,3,4,5,6,6}\n",
        "s.pop()\n"
      ],
      "metadata": {
        "colab": {
          "base_uri": "https://localhost:8080/"
        },
        "id": "ISI9r7l7n97Z",
        "outputId": "138a9811-c8c8-495a-88dd-63a9ec0a167b"
      },
      "execution_count": 17,
      "outputs": [
        {
          "output_type": "execute_result",
          "data": {
            "text/plain": [
              "1"
            ]
          },
          "metadata": {},
          "execution_count": 17
        }
      ]
    },
    {
      "cell_type": "code",
      "source": [
        "#clear---> all set ko empty kr deta hai\n",
        "s = {1,2,3,4,5,6,6}\n",
        "s.clear()\n",
        "print(s)"
      ],
      "metadata": {
        "colab": {
          "base_uri": "https://localhost:8080/"
        },
        "id": "bRJ2zFA-oNEi",
        "outputId": "73e5d269-dc73-419b-92a8-6c46163a401d"
      },
      "execution_count": 19,
      "outputs": [
        {
          "output_type": "stream",
          "name": "stdout",
          "text": [
            "set()\n"
          ]
        }
      ]
    },
    {
      "cell_type": "markdown",
      "source": [
        "**set operation**\n",
        "\n",
        "\n",
        "1.   Union(|)\n",
        "2.   Intersection(&)\n",
        "3.   Difference(-)\n",
        "4.   symmetric Difference(^)\n",
        "5.   Membership Test\n",
        "6.   Iteration\n"
      ],
      "metadata": {
        "id": "CSke8UJEqk6c"
      }
    },
    {
      "cell_type": "code",
      "source": [
        "#union\n",
        "s1 ={1,2,3,4,5,6,7,8,9}\n",
        "s2 ={4,6,7,1,8,9,4}\n",
        "s1 | s2"
      ],
      "metadata": {
        "colab": {
          "base_uri": "https://localhost:8080/"
        },
        "id": "8janXfFnrUsJ",
        "outputId": "57dbe516-9cc0-473a-862a-64b7635b7fc5"
      },
      "execution_count": 20,
      "outputs": [
        {
          "output_type": "execute_result",
          "data": {
            "text/plain": [
              "{1, 2, 3, 4, 5, 6, 7, 8, 9}"
            ]
          },
          "metadata": {},
          "execution_count": 20
        }
      ]
    },
    {
      "cell_type": "code",
      "source": [
        "#intersection\n",
        "s1 ={1,2,3,4,5,6,7,8,9}\n",
        "s2 ={4,6,7,1,8,9,4}\n",
        "s1 & s2"
      ],
      "metadata": {
        "colab": {
          "base_uri": "https://localhost:8080/"
        },
        "id": "Sg4_dvtbqoJY",
        "outputId": "8271f110-0094-4d86-ec87-c1adac7a868b"
      },
      "execution_count": 21,
      "outputs": [
        {
          "output_type": "execute_result",
          "data": {
            "text/plain": [
              "{1, 4, 6, 7, 8, 9}"
            ]
          },
          "metadata": {},
          "execution_count": 21
        }
      ]
    },
    {
      "cell_type": "code",
      "source": [
        "# Difference(-)\n",
        "s1 ={1,2,3,4,5,6,7,8,9}\n",
        "s2 ={4,6,7,1,8,9,4}\n",
        "s1 - s2"
      ],
      "metadata": {
        "colab": {
          "base_uri": "https://localhost:8080/"
        },
        "id": "jE_NAjtdsHyz",
        "outputId": "b66ab957-f2c7-4f84-ff64-75f037d4b176"
      },
      "execution_count": 22,
      "outputs": [
        {
          "output_type": "execute_result",
          "data": {
            "text/plain": [
              "{2, 3, 5}"
            ]
          },
          "metadata": {},
          "execution_count": 22
        }
      ]
    },
    {
      "cell_type": "code",
      "source": [
        "#symmetric Difference\n",
        "s1 ={1,2,3,4,5,6,7,8,9}\n",
        "s2 ={4,6,7,1,8,9,4}\n",
        "s1 ^ s2"
      ],
      "metadata": {
        "colab": {
          "base_uri": "https://localhost:8080/"
        },
        "id": "tLVO1tvusWyO",
        "outputId": "c4093c08-3167-463c-8a4a-aa236e4f527a"
      },
      "execution_count": 23,
      "outputs": [
        {
          "output_type": "execute_result",
          "data": {
            "text/plain": [
              "{2, 3, 5}"
            ]
          },
          "metadata": {},
          "execution_count": 23
        }
      ]
    },
    {
      "cell_type": "code",
      "source": [
        "#membership Test\n",
        "\n",
        "s1 ={1,2,3,4,5,6,7,8,9}\n",
        "s2 ={4,6,7,1,8,9,4}\n",
        "8 in s1\n"
      ],
      "metadata": {
        "colab": {
          "base_uri": "https://localhost:8080/"
        },
        "id": "cRi-_Yn0so1g",
        "outputId": "e23ef7a8-84cc-4654-8ed2-278dec54e356"
      },
      "execution_count": 25,
      "outputs": [
        {
          "output_type": "execute_result",
          "data": {
            "text/plain": [
              "True"
            ]
          },
          "metadata": {},
          "execution_count": 25
        }
      ]
    },
    {
      "cell_type": "code",
      "source": [
        "#loop in set\n",
        "s1 ={1,2,3,4,5,6,7,8,9}\n",
        "s2 ={4,6,7,1,8,9,4}\n",
        "for i in s1:\n",
        "  print(i)"
      ],
      "metadata": {
        "colab": {
          "base_uri": "https://localhost:8080/"
        },
        "id": "PTQ3xPkNs5dP",
        "outputId": "39c3d44c-3b62-4ba9-e6d3-3448c3e31693"
      },
      "execution_count": 27,
      "outputs": [
        {
          "output_type": "stream",
          "name": "stdout",
          "text": [
            "1\n",
            "2\n",
            "3\n",
            "4\n",
            "5\n",
            "6\n",
            "7\n",
            "8\n",
            "9\n"
          ]
        }
      ]
    },
    {
      "cell_type": "markdown",
      "source": [
        "**Set Function**\n",
        "\n",
        "#len/sum/min/max/sorted\n",
        "\n",
        "\n"
      ],
      "metadata": {
        "id": "cUHQK-WOtqmk"
      }
    },
    {
      "cell_type": "code",
      "source": [
        "s1 ={1,2,3,4,5,6,7,8,9}\n",
        "s2 ={4,6,7,1,8,9,4}\n",
        "print(len(s1))\n",
        "print(sum(s2))\n",
        "print(min(s1))\n",
        "print(max(s1))\n",
        "print(sorted(s2))                 #  ascending\n",
        "print(sorted(s1,reverse=True))    # for decending"
      ],
      "metadata": {
        "colab": {
          "base_uri": "https://localhost:8080/"
        },
        "id": "2eGpAPfYt2HR",
        "outputId": "e9bf0ce7-5396-4293-f6e6-83dd1d2d0fe6"
      },
      "execution_count": 29,
      "outputs": [
        {
          "output_type": "stream",
          "name": "stdout",
          "text": [
            "9\n",
            "35\n",
            "1\n",
            "9\n",
            "[1, 4, 6, 7, 8, 9]\n",
            "[9, 8, 7, 6, 5, 4, 3, 2, 1]\n"
          ]
        }
      ]
    },
    {
      "cell_type": "code",
      "source": [
        "#union/update\n",
        "s1 ={1,2,3,4,7,8,9}\n",
        "s2 ={4,6,7,1,8,9,4}\n",
        "\n",
        "s1.union(s2)\n",
        "\n",
        "s1.update(s2)      #-> update is used for to add multiple item\n",
        "print(s1)\n",
        "print(s2)"
      ],
      "metadata": {
        "colab": {
          "base_uri": "https://localhost:8080/"
        },
        "id": "Nt8SAU2K0Ws4",
        "outputId": "2ead5652-a3b2-4852-e38d-6200ec017d60"
      },
      "execution_count": 32,
      "outputs": [
        {
          "output_type": "stream",
          "name": "stdout",
          "text": [
            "{1, 2, 3, 4, 6, 7, 8, 9}\n",
            "{1, 4, 6, 7, 8, 9}\n"
          ]
        }
      ]
    },
    {
      "cell_type": "code",
      "source": [
        "#intersection/intersection_update\n",
        "s1 ={1,2,3,4,5}\n",
        "s2 ={4,6,7,1,8,9,4}\n",
        "\n",
        "s1.intersection(s2)\n",
        "s1.intersection_update(s2)\n",
        "print(s1)\n",
        "print(s2)"
      ],
      "metadata": {
        "colab": {
          "base_uri": "https://localhost:8080/"
        },
        "id": "bfU7DOGK1pXo",
        "outputId": "a9d79132-e642-40c3-f3dd-9ee06903aada"
      },
      "execution_count": 34,
      "outputs": [
        {
          "output_type": "stream",
          "name": "stdout",
          "text": [
            "{1, 4}\n",
            "{1, 4, 6, 7, 8, 9}\n"
          ]
        }
      ]
    },
    {
      "cell_type": "code",
      "source": [
        "#difference/difference_update\n",
        "s1 ={1,2,3,4,5}\n",
        "s2 ={4,6,7,1,8,9,4}\n",
        "\n",
        "s1.difference(s2)\n",
        "s1.difference_update(s2)\n",
        "print(s1)\n",
        "print(s2)"
      ],
      "metadata": {
        "colab": {
          "base_uri": "https://localhost:8080/"
        },
        "id": "DMqOQaVq2kta",
        "outputId": "a558310c-c528-4516-cc3f-9453828324f4"
      },
      "execution_count": 35,
      "outputs": [
        {
          "output_type": "stream",
          "name": "stdout",
          "text": [
            "{2, 3, 5}\n",
            "{1, 4, 6, 7, 8, 9}\n"
          ]
        }
      ]
    },
    {
      "cell_type": "markdown",
      "source": [
        "#isdisjoint/issubset/issuperset"
      ],
      "metadata": {
        "id": "dKce6xkZ2_Df"
      }
    },
    {
      "cell_type": "code",
      "source": [
        "s1 = {1,2,3,4}\n",
        "s2 = {7,6,8,9,5}\n",
        "s1.isdisjoint(s2)"
      ],
      "metadata": {
        "colab": {
          "base_uri": "https://localhost:8080/"
        },
        "id": "Zeluo62g3J5k",
        "outputId": "b21abea9-e0f8-4c5c-ebd9-2f01b63d473e"
      },
      "execution_count": 36,
      "outputs": [
        {
          "output_type": "execute_result",
          "data": {
            "text/plain": [
              "True"
            ]
          },
          "metadata": {},
          "execution_count": 36
        }
      ]
    },
    {
      "cell_type": "code",
      "source": [
        "s1 = {1,2,3,4}\n",
        "s2 = {7,6,8,9,5,1,2,3,4}\n",
        "s2.issuperset(s1)"
      ],
      "metadata": {
        "colab": {
          "base_uri": "https://localhost:8080/"
        },
        "id": "NIVhw0BP29ny",
        "outputId": "0a3c621c-a6c9-43c1-b5e5-857053654635"
      },
      "execution_count": 39,
      "outputs": [
        {
          "output_type": "execute_result",
          "data": {
            "text/plain": [
              "True"
            ]
          },
          "metadata": {},
          "execution_count": 39
        }
      ]
    },
    {
      "cell_type": "code",
      "source": [
        "#copy\n",
        "s1 = {1,2,3}\n",
        "s2 = s1.copy()\n",
        "\n",
        "print(s1)\n",
        "print(s2)"
      ],
      "metadata": {
        "colab": {
          "base_uri": "https://localhost:8080/"
        },
        "id": "VZ4-bAj233ty",
        "outputId": "30d43182-8766-4e00-c2c2-b9e7a002ed51"
      },
      "execution_count": 40,
      "outputs": [
        {
          "output_type": "stream",
          "name": "stdout",
          "text": [
            "{1, 2, 3}\n",
            "{1, 2, 3}\n"
          ]
        }
      ]
    },
    {
      "cell_type": "markdown",
      "source": [
        "#frozen set->is just an immutable version of a python set object"
      ],
      "metadata": {
        "id": "V5_mz-S08niO"
      }
    },
    {
      "cell_type": "code",
      "source": [
        "fs = frozenset([1,2,3])     # new item add nhi honge,aur urane item delete nhi honge\n",
        "fs"
      ],
      "metadata": {
        "colab": {
          "base_uri": "https://localhost:8080/"
        },
        "id": "o6cmYeqW8scM",
        "outputId": "7a707aef-255f-41ea-96eb-7bea3bd9ab00"
      },
      "execution_count": 41,
      "outputs": [
        {
          "output_type": "execute_result",
          "data": {
            "text/plain": [
              "frozenset({1, 2, 3})"
            ]
          },
          "metadata": {},
          "execution_count": 41
        }
      ]
    },
    {
      "cell_type": "code",
      "source": [
        "#union operation on frozenset\n",
        "f1 = frozenset([1,2,3,4])\n",
        "f2 = frozenset([3,4,5,6])\n",
        "\n",
        "f1.union(f2)"
      ],
      "metadata": {
        "colab": {
          "base_uri": "https://localhost:8080/"
        },
        "id": "T-CRxZAo98VT",
        "outputId": "6a2b0baf-a906-40a5-a57e-8772c56ce6e5"
      },
      "execution_count": 42,
      "outputs": [
        {
          "output_type": "execute_result",
          "data": {
            "text/plain": [
              "frozenset({1, 2, 3, 4, 5, 6})"
            ]
          },
          "metadata": {},
          "execution_count": 42
        }
      ]
    },
    {
      "cell_type": "code",
      "source": [
        "#when to use 2d sets\n",
        "fs = frozenset([1,2,frozenset([5,6,8])])\n",
        "fs"
      ],
      "metadata": {
        "colab": {
          "base_uri": "https://localhost:8080/"
        },
        "id": "rLtKkOQR-uDs",
        "outputId": "b1f3a3a8-bac5-4f98-ff16-61c54c16c3e5"
      },
      "execution_count": 43,
      "outputs": [
        {
          "output_type": "execute_result",
          "data": {
            "text/plain": [
              "frozenset({1, 2, frozenset({5, 6, 8})})"
            ]
          },
          "metadata": {},
          "execution_count": 43
        }
      ]
    },
    {
      "cell_type": "code",
      "source": [
        "#set comprehension\n",
        "\n",
        "{i**3 for i in range(1,11) if i>5}"
      ],
      "metadata": {
        "colab": {
          "base_uri": "https://localhost:8080/"
        },
        "id": "LlKN1lGY_aD4",
        "outputId": "187f2c95-a848-471c-d6c6-3e5711ba7082"
      },
      "execution_count": 46,
      "outputs": [
        {
          "output_type": "execute_result",
          "data": {
            "text/plain": [
              "{216, 343, 512, 729, 1000}"
            ]
          },
          "metadata": {},
          "execution_count": 46
        }
      ]
    }
  ]
}