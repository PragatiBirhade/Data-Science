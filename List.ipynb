{
  "nbformat": 4,
  "nbformat_minor": 0,
  "metadata": {
    "colab": {
      "provenance": [],
      "authorship_tag": "ABX9TyNcKQHY/OQORStvYdk2QOJV",
      "include_colab_link": true
    },
    "kernelspec": {
      "name": "python3",
      "display_name": "Python 3"
    },
    "language_info": {
      "name": "python"
    }
  },
  "cells": [
    {
      "cell_type": "markdown",
      "metadata": {
        "id": "view-in-github",
        "colab_type": "text"
      },
      "source": [
        "<a href=\"https://colab.research.google.com/github/PragatiBirhade/Data-Science-demo/blob/main/List.ipynb\" target=\"_parent\"><img src=\"https://colab.research.google.com/assets/colab-badge.svg\" alt=\"Open In Colab\"/></a>"
      ]
    },
    {
      "cell_type": "markdown",
      "source": [
        "**Creating a List**"
      ],
      "metadata": {
        "id": "-R_EIbXPkslJ"
      }
    },
    {
      "cell_type": "code",
      "source": [],
      "metadata": {
        "id": "8w3fF8pxsQGx"
      },
      "execution_count": null,
      "outputs": []
    },
    {
      "cell_type": "code",
      "execution_count": null,
      "metadata": {
        "id": "Of55flAIZF8i",
        "colab": {
          "base_uri": "https://localhost:8080/"
        },
        "outputId": "16c5c7eb-579e-4ca0-c0db-ed97f9861fe6"
      },
      "outputs": [
        {
          "output_type": "stream",
          "name": "stdout",
          "text": [
            "[]\n",
            "[1, 2, 3, 4, 5]\n",
            "[1, 2, 3, [4, 5]]\n",
            "[[[1, 2], [3, 4]], [[5, 6], [7, 8]]]\n",
            "[1, True, 5.6, (5+6j), 'hello']\n",
            "['h', 'e', 'l', 'l', 'o']\n"
          ]
        }
      ],
      "source": [
        "#Empty\n",
        "print([])\n",
        "\n",
        "#1D -->HOmogenius\n",
        "print([1,2,3,4,5])\n",
        "\n",
        "#2D---.Hetrogenous\n",
        "print([1,2,3,[4,5]])\n",
        "\n",
        "#3D----->Homogenous\n",
        "print([[[1,2],[3,4]],[[5,6],[7,8]]])\n",
        "\n",
        "#Hetrogenous\n",
        "print([1,True,5.6,5+6j,'hello'])\n",
        "\n",
        "#using Type Conversion\n",
        "print(list('hello'))"
      ]
    },
    {
      "cell_type": "markdown",
      "source": [
        "**Accessing item from a list**"
      ],
      "metadata": {
        "id": "OJjfzaK3qD-9"
      }
    },
    {
      "cell_type": "code",
      "source": [
        "# Indexing                   ek type ka no. aap nikal sakate hai\n",
        "L = [1,2,3,4,5]\n",
        "print(L[3])   #positive indexing fecting\n",
        "print(L[-3])"
      ],
      "metadata": {
        "colab": {
          "base_uri": "https://localhost:8080/"
        },
        "id": "P9E7ViEcqOgJ",
        "outputId": "eccd0904-a79f-4e49-ae48-524a40b53550"
      },
      "execution_count": null,
      "outputs": [
        {
          "output_type": "stream",
          "name": "stdout",
          "text": [
            "4\n",
            "3\n"
          ]
        }
      ]
    },
    {
      "cell_type": "code",
      "source": [
        "L = ([[[1,2],[3,4]],[[5,6],[7,8]]])\n",
        "print(L[0][0][1])   #----if i want to print 2\n",
        "print(L[1][0][0])"
      ],
      "metadata": {
        "colab": {
          "base_uri": "https://localhost:8080/"
        },
        "id": "Mc1KNGNrsSom",
        "outputId": "30b4920d-65ac-4ee5-bf75-debd97cd30d8"
      },
      "execution_count": null,
      "outputs": [
        {
          "output_type": "stream",
          "name": "stdout",
          "text": [
            "2\n",
            "5\n"
          ]
        }
      ]
    },
    {
      "cell_type": "code",
      "source": [
        "#Slicing                                kitne bhi no. aap nikal sakate hai\n",
        "\n",
        "L = [1,2,3,4,5,6]\n",
        "print(L[0:3])\n",
        "print(L[-4:])\n",
        "print(L[0::2])    #--------->this is tep 2 that's means ki 2 ke step se no. print honga\n",
        "print(L[-5:-2:2])\n",
        "print(L[::-1])      #------> this syntax is used for to reverse list"
      ],
      "metadata": {
        "colab": {
          "base_uri": "https://localhost:8080/"
        },
        "id": "mZAJ4hy_t_OK",
        "outputId": "4c249fb7-3c2b-4df4-a33d-fee85b58a9a5"
      },
      "execution_count": null,
      "outputs": [
        {
          "output_type": "stream",
          "name": "stdout",
          "text": [
            "[1, 2, 3]\n",
            "[3, 4, 5, 6]\n",
            "[1, 3, 5]\n",
            "[2, 4]\n",
            "[6, 5, 4, 3, 2, 1]\n"
          ]
        }
      ]
    },
    {
      "cell_type": "markdown",
      "source": [
        "**Adding item to a list**"
      ],
      "metadata": {
        "id": "-UjOxdlitslI"
      }
    },
    {
      "cell_type": "code",
      "source": [
        "#1. append\n",
        "L = [1,2,3,4,5]\n",
        "L.append(6)     # single item item ko add karta hai\n",
        "print(L)"
      ],
      "metadata": {
        "colab": {
          "base_uri": "https://localhost:8080/"
        },
        "id": "qXOtr0AVwoJP",
        "outputId": "1797a03a-b9ff-40bf-a5eb-fc7cea2353f8"
      },
      "execution_count": null,
      "outputs": [
        {
          "output_type": "stream",
          "name": "stdout",
          "text": [
            "[1, 2, 3, 4, 5, 6]\n"
          ]
        }
      ]
    },
    {
      "cell_type": "code",
      "source": [
        "#2. extend\n",
        "L = [1,2,3,4,5,6]\n",
        "L.extend([7,8,9,6])           # multiple item add kr sakate hai\n",
        "print(L)"
      ],
      "metadata": {
        "colab": {
          "base_uri": "https://localhost:8080/"
        },
        "id": "EijxAIx7wrWn",
        "outputId": "8f8b1bef-3ba9-4b53-9b11-bf36f5ebb20f"
      },
      "execution_count": null,
      "outputs": [
        {
          "output_type": "stream",
          "name": "stdout",
          "text": [
            "[1, 2, 3, 4, 5, 6, 7, 8, 9, 6]\n"
          ]
        }
      ]
    },
    {
      "cell_type": "code",
      "source": [
        "L = [1,2,3,4,5,6]\n",
        "L.extend('delhi')\n",
        "print(L)\n",
        "L.extend(['delhi'])\n",
        "print(L)"
      ],
      "metadata": {
        "colab": {
          "base_uri": "https://localhost:8080/"
        },
        "id": "_Un_hghByDOB",
        "outputId": "f7443913-4a91-47f1-e862-aadaf486a82b"
      },
      "execution_count": null,
      "outputs": [
        {
          "output_type": "stream",
          "name": "stdout",
          "text": [
            "[1, 2, 3, 4, 5, 6, 'd', 'e', 'l', 'h', 'i']\n",
            "[1, 2, 3, 4, 5, 6, 'd', 'e', 'l', 'h', 'i', 'delhi']\n"
          ]
        }
      ]
    },
    {
      "cell_type": "code",
      "source": [
        "#3. Insert\n",
        "L = [1,2,3,4,5]\n",
        "L.insert(1,100)   #->1 argu for index position u want add item in that place ,and 2nd argu for which item u want to add in the list ---kisi desired position pr aap kuch to item add karna chahte ho that's time use insert\n",
        "print(L)"
      ],
      "metadata": {
        "colab": {
          "base_uri": "https://localhost:8080/"
        },
        "id": "-njaeyEAwuAk",
        "outputId": "fdb2cb71-4964-4355-9550-68ec1491de5a"
      },
      "execution_count": null,
      "outputs": [
        {
          "output_type": "stream",
          "name": "stdout",
          "text": [
            "[1, 100, 2, 3, 4, 5]\n"
          ]
        }
      ]
    },
    {
      "cell_type": "markdown",
      "source": [
        "**Editing items in a list**"
      ],
      "metadata": {
        "id": "oeKpSbg74Pml"
      }
    },
    {
      "cell_type": "code",
      "source": [
        "L = [1,2,3,4,5]\n",
        "\n",
        "# editing with indexing\n",
        "L[-1]=500\n",
        "print(L)\n",
        "\n",
        "#editing with slicing\n",
        "L[1:4] = [200,300,45]\n",
        "print(L)"
      ],
      "metadata": {
        "colab": {
          "base_uri": "https://localhost:8080/"
        },
        "id": "zvvyUU-C4VqL",
        "outputId": "73ea5e41-89c9-4448-c5fd-7c46cc286b30"
      },
      "execution_count": null,
      "outputs": [
        {
          "output_type": "stream",
          "name": "stdout",
          "text": [
            "[1, 2, 3, 4, 500]\n",
            "[1, 200, 300, 45, 500]\n"
          ]
        }
      ]
    },
    {
      "cell_type": "markdown",
      "source": [
        "**Deleting item from list**"
      ],
      "metadata": {
        "id": "Uq4_MDuRE0dX"
      }
    },
    {
      "cell_type": "code",
      "source": [
        "# del\n",
        "L = [1,2,3,4,5]\n",
        "print(L)\n",
        "del L\n",
        "print(L)"
      ],
      "metadata": {
        "id": "aOkgYwAQE5Ps"
      },
      "execution_count": null,
      "outputs": []
    },
    {
      "cell_type": "code",
      "source": [
        "L = [1,2,3,4,5]\n",
        "\n",
        "#indexing\n",
        "del L[-1]\n",
        "print(L)\n",
        "\n",
        "#slicing\n",
        "del L[1:3]\n",
        "print(L)"
      ],
      "metadata": {
        "colab": {
          "base_uri": "https://localhost:8080/"
        },
        "id": "KkaVJbHtKTpl",
        "outputId": "298bfc10-be5b-4be2-a6af-e87b6637ec5c"
      },
      "execution_count": null,
      "outputs": [
        {
          "output_type": "stream",
          "name": "stdout",
          "text": [
            "[1, 2, 3, 4]\n",
            "[1, 4]\n"
          ]
        }
      ]
    },
    {
      "cell_type": "code",
      "source": [
        "#pop            ------>pop is generally used for to delete last item if we don't provide any index position of item\n",
        "L = [1,2,3,4,5,6]\n",
        "L.pop()\n",
        "\n",
        "print(L)"
      ],
      "metadata": {
        "id": "HBzOPqvWLKjl"
      },
      "execution_count": null,
      "outputs": []
    },
    {
      "cell_type": "code",
      "source": [
        "#clear        --> delete all item\n",
        "L = [1,2,3,4,5,6]\n",
        "L.clear()\n",
        "print(L)\n"
      ],
      "metadata": {
        "colab": {
          "base_uri": "https://localhost:8080/"
        },
        "id": "tyHbrImFL63F",
        "outputId": "ff31fa2d-7498-4e77-b93d-568409d36853"
      },
      "execution_count": null,
      "outputs": [
        {
          "output_type": "stream",
          "name": "stdout",
          "text": [
            "[]\n"
          ]
        }
      ]
    },
    {
      "cell_type": "markdown",
      "source": [
        "**Operation on list**\n",
        "\n",
        "1.Arithmetic\n",
        "\n",
        "2.Membership\n",
        "\n",
        "3.Loop"
      ],
      "metadata": {
        "id": "V8sD1Xy_PFho"
      }
    },
    {
      "cell_type": "code",
      "source": [
        "# Arithmetic  (+,*)\n",
        "\n",
        "L1 = [1,2,3,4]\n",
        "L2 = [5,6,7,8,9]\n",
        "\n",
        "#concatenation/merge\n",
        "print(L1 + L2)"
      ],
      "metadata": {
        "id": "l0X-mZjtPLyf"
      },
      "execution_count": null,
      "outputs": []
    },
    {
      "cell_type": "code",
      "source": [
        "L1 = [1,2,3,4]\n",
        "print(L1*3)"
      ],
      "metadata": {
        "colab": {
          "base_uri": "https://localhost:8080/"
        },
        "id": "pyhzNH5MQvo0",
        "outputId": "0fde918d-3bbe-4ab9-95f9-9878ed2482b3"
      },
      "execution_count": null,
      "outputs": [
        {
          "output_type": "stream",
          "name": "stdout",
          "text": [
            "[1, 2, 3, 4, 1, 2, 3, 4, 1, 2, 3, 4]\n"
          ]
        }
      ]
    },
    {
      "cell_type": "code",
      "source": [
        "L1 = [1,2,3,4]\n",
        "L2 = [5,6,7,8,9,[5,6]]\n",
        "\n",
        "print(5 not in L1)\n",
        "print(9 in L2)\n",
        "print(7 in L1)"
      ],
      "metadata": {
        "colab": {
          "base_uri": "https://localhost:8080/"
        },
        "id": "5dBCwxhM3Fd4",
        "outputId": "678c0cce-8448-45c6-b927-2214f02d4e8a"
      },
      "execution_count": null,
      "outputs": [
        {
          "output_type": "stream",
          "name": "stdout",
          "text": [
            "True\n",
            "True\n",
            "False\n"
          ]
        }
      ]
    },
    {
      "cell_type": "markdown",
      "source": [
        "**Loop**"
      ],
      "metadata": {
        "id": "jLgUgwEq3ron"
      }
    },
    {
      "cell_type": "code",
      "source": [
        "L1 = [1,2,3,4]\n",
        "L2 = [5,6,7,8,9,[5,6]]\n",
        "L3 = [[[5,6],[3,7]],[[5,6],[6,9]]]\n",
        "\n",
        "for i in L2:\n",
        "  print(i)\n",
        "\n",
        "for i in L3:\n",
        "  print(i)"
      ],
      "metadata": {
        "colab": {
          "base_uri": "https://localhost:8080/"
        },
        "id": "-40UXn9R3uYg",
        "outputId": "d06bc4cd-3e54-433c-9c1a-28a6d048ebe2"
      },
      "execution_count": null,
      "outputs": [
        {
          "output_type": "stream",
          "name": "stdout",
          "text": [
            "5\n",
            "6\n",
            "7\n",
            "8\n",
            "9\n",
            "[5, 6]\n",
            "[[5, 6], [3, 7]]\n",
            "[[5, 6], [6, 9]]\n"
          ]
        }
      ]
    },
    {
      "cell_type": "markdown",
      "source": [
        "**List Function**"
      ],
      "metadata": {
        "id": "p9ZE7jAG5Ai2"
      }
    },
    {
      "cell_type": "code",
      "source": [
        "#len/min/max/sorted\n",
        "\n",
        "L= [2,3,4,5,6,7,8,9,5,7,1,10,56,89]\n",
        "\n",
        "print(len(L))\n",
        "print(min(L))\n",
        "print(max(L))\n",
        "print(sorted(L))      # by default they use ascending sorting order\n",
        "print(sorted(L,reverse=True))   # after using reverse = True ,they giving decending order sorting\n",
        "\n",
        "\n",
        "\n",
        "\n"
      ],
      "metadata": {
        "colab": {
          "base_uri": "https://localhost:8080/"
        },
        "id": "s8U-Ejo55D7d",
        "outputId": "e3d66323-b37c-4df4-8d47-0cd11e19009d"
      },
      "execution_count": null,
      "outputs": [
        {
          "output_type": "stream",
          "name": "stdout",
          "text": [
            "14\n",
            "1\n",
            "89\n",
            "[1, 2, 3, 4, 5, 5, 6, 7, 7, 8, 9, 10, 56, 89]\n",
            "[89, 56, 10, 9, 8, 7, 7, 6, 5, 5, 4, 3, 2, 1]\n"
          ]
        }
      ]
    },
    {
      "cell_type": "code",
      "source": [
        "#count    ------> it is basically used for to check frequency of perticular number\n",
        "L = [1,2,3,4,4,56,67,0,4,57]\n",
        "L.count(4)"
      ],
      "metadata": {
        "colab": {
          "base_uri": "https://localhost:8080/"
        },
        "id": "qMsyMS886cdV",
        "outputId": "80096987-07bc-434f-e885-c60480c455b9"
      },
      "execution_count": null,
      "outputs": [
        {
          "output_type": "execute_result",
          "data": {
            "text/plain": [
              "3"
            ]
          },
          "metadata": {},
          "execution_count": 7
        }
      ]
    },
    {
      "cell_type": "code",
      "source": [
        "# index  ---------> used for to check index position of item, and if a perticular item is multiple times in list then it given 1 st position of that no.\n",
        "L = [1,2,3,4,5,6,7,8,9,9,2,2,2,2,24,9,0]\n",
        "L.index(2)\n",
        "L.index(9)"
      ],
      "metadata": {
        "colab": {
          "base_uri": "https://localhost:8080/"
        },
        "id": "7Cf_WKLz73Fm",
        "outputId": "6a115faf-cac3-4d3f-9849-7c41ea275fcf"
      },
      "execution_count": null,
      "outputs": [
        {
          "output_type": "execute_result",
          "data": {
            "text/plain": [
              "8"
            ]
          },
          "metadata": {},
          "execution_count": 9
        }
      ]
    },
    {
      "cell_type": "code",
      "source": [
        "#reverse\n",
        "L =[2,3,4,6,78,1,7,9,8]\n",
        "#permanently reverse the list     ---->be careful in reverse operation because it change original list to convert in reverse\n",
        "L.reverse()\n",
        "print(L)"
      ],
      "metadata": {
        "colab": {
          "base_uri": "https://localhost:8080/"
        },
        "id": "YTRpMLmu86Z5",
        "outputId": "db12d126-4a1e-48ef-86fb-4127c11bdbb8"
      },
      "execution_count": null,
      "outputs": [
        {
          "output_type": "stream",
          "name": "stdout",
          "text": [
            "[8, 9, 7, 1, 78, 6, 4, 3, 2]\n"
          ]
        }
      ]
    },
    {
      "cell_type": "code",
      "source": [
        "#sort vs sorted  --------> sort=permanent, sorted= temporaly\n",
        "L = [2,3,4,5,6,67,88,9,9,0,0,2,3,445,5,66,77889,9]\n",
        "print(L)\n",
        "print(sorted(L))\n",
        "print(L)\n",
        "L.sort()\n",
        "print(L)"
      ],
      "metadata": {
        "colab": {
          "base_uri": "https://localhost:8080/"
        },
        "id": "T7s7czwn9ZcZ",
        "outputId": "0a30b087-fa2c-41f5-f7a3-446fe67f5948"
      },
      "execution_count": null,
      "outputs": [
        {
          "output_type": "stream",
          "name": "stdout",
          "text": [
            "[2, 3, 4, 5, 6, 67, 88, 9, 9, 0, 0, 2, 3, 445, 5, 66, 77889, 9]\n",
            "[0, 0, 2, 2, 3, 3, 4, 5, 5, 6, 9, 9, 9, 66, 67, 88, 445, 77889]\n",
            "[2, 3, 4, 5, 6, 67, 88, 9, 9, 0, 0, 2, 3, 445, 5, 66, 77889, 9]\n",
            "[0, 0, 2, 2, 3, 3, 4, 5, 5, 6, 9, 9, 9, 66, 67, 88, 445, 77889]\n"
          ]
        }
      ]
    },
    {
      "cell_type": "code",
      "source": [
        "# copy  ---> shallow\n",
        "L = [2,3,4,5,6,7,91,4,51,1,4,5,7]\n",
        "print(L)\n",
        "print(id(L))\n",
        "L1 = L.copy()\n",
        "print(L1)\n",
        "print(id(L1))"
      ],
      "metadata": {
        "colab": {
          "base_uri": "https://localhost:8080/"
        },
        "id": "9OjT_4x6_KYi",
        "outputId": "43a7cc2c-c42c-4f2e-9702-c9e394f947a4"
      },
      "execution_count": null,
      "outputs": [
        {
          "output_type": "stream",
          "name": "stdout",
          "text": [
            "[2, 3, 4, 5, 6, 7, 91, 4, 51, 1, 4, 5, 7]\n",
            "132153756700736\n",
            "[2, 3, 4, 5, 6, 7, 91, 4, 51, 1, 4, 5, 7]\n",
            "132153756294720\n"
          ]
        }
      ]
    },
    {
      "cell_type": "markdown",
      "source": [
        "**List Comprehension**\n",
        "List Comprehension provides a concise way of creating lists.\n",
        "\n",
        "**newlist = [expression for item in iterable if condition == True**\n",
        "\n",
        "Advantages of List Comprehension\n",
        "\n",
        "\n",
        "\n",
        "\n",
        "1.   More efficient and space efficient than loop.\n",
        "2.   Requires fever line of code.\n",
        "3.   Transforms iterative statement into a formula.\n",
        "\n",
        "\n"
      ],
      "metadata": {
        "id": "tz0_lbWIAOR4"
      }
    },
    {
      "cell_type": "code",
      "source": [
        "# Add 1 to 10 numbers to a list\n",
        "L = []\n",
        "\n",
        "for i in range(1,11):\n",
        "  L.append(i)\n",
        "\n",
        "print(L)"
      ],
      "metadata": {
        "colab": {
          "base_uri": "https://localhost:8080/"
        },
        "id": "3eEXydSvB7u9",
        "outputId": "6a594d9b-fea7-4a08-af50-075be7cde3f3"
      },
      "execution_count": null,
      "outputs": [
        {
          "output_type": "stream",
          "name": "stdout",
          "text": [
            "[1, 2, 3, 4, 5, 6, 7, 8, 9, 10]\n"
          ]
        }
      ]
    },
    {
      "cell_type": "code",
      "source": [
        "\n",
        "L = [i for i in range(1,11)]\n",
        "print(L)"
      ],
      "metadata": {
        "colab": {
          "base_uri": "https://localhost:8080/"
        },
        "id": "mMrLYR0TANC3",
        "outputId": "a890fc06-fe78-4b0b-bd6d-5c5bac50b593"
      },
      "execution_count": null,
      "outputs": [
        {
          "output_type": "stream",
          "name": "stdout",
          "text": [
            "[1, 2, 3, 4, 5, 6, 7, 8, 9, 10]\n"
          ]
        }
      ]
    },
    {
      "cell_type": "code",
      "source": [
        "#scalar multiplication on a vector\n",
        "#without comprehension\n",
        "v = [2,3,4,9]\n",
        "s = 3\n",
        "\n",
        "x =[]\n",
        "for i in v:\n",
        "  x.append(i*s)\n",
        "\n",
        "print(x)"
      ],
      "metadata": {
        "colab": {
          "base_uri": "https://localhost:8080/"
        },
        "id": "xoZBHe3FDAMf",
        "outputId": "6d57654e-3678-4468-bc8a-9c14c903de9b"
      },
      "execution_count": null,
      "outputs": [
        {
          "output_type": "stream",
          "name": "stdout",
          "text": [
            "[6, 9, 12, 27]\n"
          ]
        }
      ]
    },
    {
      "cell_type": "code",
      "source": [
        "#with comprehension\n",
        "v = [2,3,4,9]\n",
        "s = 3\n",
        "\n",
        "[s*i for i in v]\n"
      ],
      "metadata": {
        "colab": {
          "base_uri": "https://localhost:8080/"
        },
        "id": "33eiG7uGRQmc",
        "outputId": "3290d579-6419-4715-85fe-cc766bde0b9d"
      },
      "execution_count": null,
      "outputs": [
        {
          "output_type": "execute_result",
          "data": {
            "text/plain": [
              "[6, 9, 12, 27]"
            ]
          },
          "metadata": {},
          "execution_count": 21
        }
      ]
    },
    {
      "cell_type": "code",
      "source": [
        "#Add square\n",
        "L = [1,2,3,4,56,7,9]\n",
        "[i**2 for i in L]"
      ],
      "metadata": {
        "colab": {
          "base_uri": "https://localhost:8080/"
        },
        "id": "ehz8JEroR1Nn",
        "outputId": "6ca63874-bccb-4c6a-a9c1-1b0a249fe8dd"
      },
      "execution_count": null,
      "outputs": [
        {
          "output_type": "execute_result",
          "data": {
            "text/plain": [
              "[1, 4, 9, 16, 3136, 49, 81]"
            ]
          },
          "metadata": {},
          "execution_count": 22
        }
      ]
    },
    {
      "cell_type": "code",
      "source": [
        "# print all numbers divisible by 5 in the range of 1 to 100\n",
        "[i for i in range(1,51) if i%5==0]"
      ],
      "metadata": {
        "colab": {
          "base_uri": "https://localhost:8080/"
        },
        "id": "SjBN9ImvSWrk",
        "outputId": "c1946c0a-98e3-42d0-86f3-ef66635be3c8"
      },
      "execution_count": null,
      "outputs": [
        {
          "output_type": "execute_result",
          "data": {
            "text/plain": [
              "[5, 10, 15, 20, 25, 30, 35, 40, 45, 50]"
            ]
          },
          "metadata": {},
          "execution_count": 25
        }
      ]
    },
    {
      "cell_type": "code",
      "source": [
        "#find languages which start with letter p\n",
        "languages = ['java','python','php','c','pragatu','ml']\n",
        "\n",
        "[i for i in languages if i.startswith('p')]"
      ],
      "metadata": {
        "colab": {
          "base_uri": "https://localhost:8080/"
        },
        "id": "W6dKuBmhTTQM",
        "outputId": "97c90496-9f97-407f-900f-2563f3830854"
      },
      "execution_count": null,
      "outputs": [
        {
          "output_type": "execute_result",
          "data": {
            "text/plain": [
              "['python', 'php', 'pragatu']"
            ]
          },
          "metadata": {},
          "execution_count": 26
        }
      ]
    },
    {
      "cell_type": "code",
      "source": [
        "#Nested if with list comprehension\n",
        "basket = ['apple','guava','cherry','banana','aappyvhvbdf']\n",
        "my_fruits = ['apple','kiwi','grapes','banana']\n",
        "\n",
        "#add new list from my_fruits and items if the fruit exists in basket and also starts with 'a'\n",
        "\n",
        "[fruit for fruit in my_fruits if fruit in basket if fruit.startswith('a')]"
      ],
      "metadata": {
        "colab": {
          "base_uri": "https://localhost:8080/"
        },
        "id": "FsJDUdaeUZc5",
        "outputId": "3a13c06a-2cf3-4861-bb15-57b9900011df"
      },
      "execution_count": null,
      "outputs": [
        {
          "output_type": "execute_result",
          "data": {
            "text/plain": [
              "['apple']"
            ]
          },
          "metadata": {},
          "execution_count": 28
        }
      ]
    },
    {
      "cell_type": "code",
      "source": [
        "#print a (3,3) matrix using list comprehension ---> Nested List Comprehension\n",
        "[[i*j for i in range(1,4)] for j in range(1,4)]"
      ],
      "metadata": {
        "colab": {
          "base_uri": "https://localhost:8080/"
        },
        "id": "zWCE9tNwZXKM",
        "outputId": "f52b5308-dd34-4448-fd15-a1aa067a4e93"
      },
      "execution_count": null,
      "outputs": [
        {
          "output_type": "execute_result",
          "data": {
            "text/plain": [
              "[[1, 2, 3], [2, 4, 6], [3, 6, 9]]"
            ]
          },
          "metadata": {},
          "execution_count": 29
        }
      ]
    },
    {
      "cell_type": "code",
      "source": [
        "# cartesian product ---> list comprehension on 2 lists together\n",
        "L1 = [1,2,3,4]\n",
        "L2 = [5,6,7,8]\n",
        "\n",
        "[i*j for i in L1 for j in L2]\n"
      ],
      "metadata": {
        "colab": {
          "base_uri": "https://localhost:8080/"
        },
        "id": "RuWo_lfJ_sZ9",
        "outputId": "b4a2541c-cae9-4c24-af06-c1f55662ac62"
      },
      "execution_count": null,
      "outputs": [
        {
          "output_type": "execute_result",
          "data": {
            "text/plain": [
              "[5, 6, 7, 8, 10, 12, 14, 16, 15, 18, 21, 24, 20, 24, 28, 32]"
            ]
          },
          "metadata": {},
          "execution_count": 2
        }
      ]
    },
    {
      "cell_type": "code",
      "source": [
        "# itemwise\n",
        "L = [1,2,3,4]\n",
        "\n",
        "for i in L:\n",
        "  print(i)"
      ],
      "metadata": {
        "colab": {
          "base_uri": "https://localhost:8080/"
        },
        "id": "T44R9nJ0CgVe",
        "outputId": "41874919-9315-4dc1-84fc-bbfd0d0f58dc"
      },
      "execution_count": null,
      "outputs": [
        {
          "output_type": "stream",
          "name": "stdout",
          "text": [
            "1\n",
            "2\n",
            "3\n",
            "4\n"
          ]
        }
      ]
    },
    {
      "cell_type": "code",
      "source": [
        "#indexwise\n",
        "L = [1,2,3,4]\n",
        "\n",
        "for i in range(0,len(L)):\n",
        "  print(L[i])"
      ],
      "metadata": {
        "colab": {
          "base_uri": "https://localhost:8080/"
        },
        "id": "95nPS9feCso-",
        "outputId": "d11ea1a6-f763-4028-b444-7262f1ca9988"
      },
      "execution_count": null,
      "outputs": [
        {
          "output_type": "stream",
          "name": "stdout",
          "text": [
            "1\n",
            "2\n",
            "3\n",
            "4\n"
          ]
        }
      ]
    },
    {
      "cell_type": "code",
      "source": [
        "# write a program to add items of 2 lists indexwise\n",
        "\n",
        "L1 = [1,2,3,4]\n",
        "L2 = [-1,2,-3,44]\n",
        "\n",
        "list(zip(L1,L2))\n",
        "[i+j for i,j in zip(L1,L2)]"
      ],
      "metadata": {
        "colab": {
          "base_uri": "https://localhost:8080/"
        },
        "id": "hBFLLWu-Hr3U",
        "outputId": "a1587341-5d04-48a9-972c-82b56d527d1f"
      },
      "execution_count": null,
      "outputs": [
        {
          "output_type": "execute_result",
          "data": {
            "text/plain": [
              "[0, 4, 0, 48]"
            ]
          },
          "metadata": {},
          "execution_count": 10
        }
      ]
    },
    {
      "cell_type": "code",
      "source": [
        "L = [1,2,print,type,input]  ----> python mai aap built in function bhi list ke andar stored kr sakate ho\n",
        "\n",
        "print(L)"
      ],
      "metadata": {
        "colab": {
          "base_uri": "https://localhost:8080/"
        },
        "id": "saMWWKUZIR4a",
        "outputId": "b0ae2446-bb1c-438d-9837-07d971676b45"
      },
      "execution_count": null,
      "outputs": [
        {
          "output_type": "stream",
          "name": "stdout",
          "text": [
            "[1, 2, <built-in function print>, <class 'type'>, <bound method Kernel.raw_input of <google.colab._kernel.Kernel object at 0x7f9c232ab760>>]\n"
          ]
        }
      ]
    },
    {
      "cell_type": "markdown",
      "source": [
        "**How list are stored in memory**"
      ],
      "metadata": {
        "id": "_0PkZODEGOKw"
      }
    },
    {
      "cell_type": "markdown",
      "source": [],
      "metadata": {
        "id": "o2iH_XF8JCAX"
      }
    },
    {
      "cell_type": "markdown",
      "source": [
        "**Characterstics of a list**\n",
        "\n",
        "1.   Ordered\n",
        "2.   changable/mutable\n",
        "3.   Hetrogeneous\n",
        "4.   Can have dulicate\n",
        "5.   are dyanamic\n",
        "6.   can be nested\n",
        "7.   item can be accessed\n",
        "8.   can contain any kind of object in python"
      ],
      "metadata": {
        "id": "UkbctLFYGTeh"
      }
    },
    {
      "cell_type": "markdown",
      "source": [
        "**Disadvantages of list**\n",
        "\n",
        "\n",
        "1.   slow\n",
        "2.   Risky usage\n",
        "3.   eats up more memory\n"
      ],
      "metadata": {
        "id": "nisv9TCIJGXr"
      }
    },
    {
      "cell_type": "code",
      "source": [],
      "metadata": {
        "id": "MiiyivRjG7Xc"
      },
      "execution_count": null,
      "outputs": []
    }
  ]
}