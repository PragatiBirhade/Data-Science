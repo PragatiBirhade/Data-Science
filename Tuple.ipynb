{
  "nbformat": 4,
  "nbformat_minor": 0,
  "metadata": {
    "colab": {
      "provenance": [],
      "authorship_tag": "ABX9TyMqweLi8RZass44UfG3CJl2",
      "include_colab_link": true
    },
    "kernelspec": {
      "name": "python3",
      "display_name": "Python 3"
    },
    "language_info": {
      "name": "python"
    }
  },
  "cells": [
    {
      "cell_type": "markdown",
      "metadata": {
        "id": "view-in-github",
        "colab_type": "text"
      },
      "source": [
        "<a href=\"https://colab.research.google.com/github/PragatiBirhade/Data-Science-demo/blob/main/Tuple.ipynb\" target=\"_parent\"><img src=\"https://colab.research.google.com/assets/colab-badge.svg\" alt=\"Open In Colab\"/></a>"
      ]
    },
    {
      "cell_type": "markdown",
      "source": [
        "**Tuples**\n",
        "\n",
        "A tuples in python is similar to a list.The difference between the two is that we cannot change the element of a tuple once it is assigned whreas we can change the element of a list.\n",
        "\n",
        "**Tuple**--> immutable--> ek baar jo item ban gaya usmai aap baad mai changes nhi kar sakte-->A tuple can not be changed in any way once it is created\n",
        "\n",
        "**List** --> mutable--> means aap changes kar sakate hoo\n",
        "\n",
        "**Characterstics**\n",
        "\n",
        "\n",
        "1.   ordered\n",
        "2.   unchangeble\n",
        "3.   Allows duplicate\n",
        "\n",
        "\n",
        "\n",
        "\n"
      ],
      "metadata": {
        "id": "Hi_xGyrHM0H5"
      }
    },
    {
      "cell_type": "markdown",
      "source": [
        "**Plan of attack**\n",
        "\n",
        "1.   creating a tuple\n",
        "2.   Acessing item\n",
        "3.   Editing item\n",
        "4.   Adding items\n",
        "5.   Deleting item\n",
        "6.   Operation on Tuples\n",
        "7.   tuple Function\n"
      ],
      "metadata": {
        "id": "lVLRLQf8O8c7"
      }
    },
    {
      "cell_type": "code",
      "source": [
        "#empty\n",
        "t1= ()\n",
        "print(t1)\n",
        "\n",
        "# create tuple with a single item\n",
        "t2 = ('hello')   #-----> this is wrong way\n",
        "print(t2)\n",
        "print(type(t2))\n",
        "\n",
        "t2 = ('hello',)   #-----> this is correct way to create tuple for single item\n",
        "print(t2)\n",
        "print(type(t2))"
      ],
      "metadata": {
        "colab": {
          "base_uri": "https://localhost:8080/"
        },
        "id": "OTr2YaDhShY1",
        "outputId": "5e5c2339-f1c8-4ec7-b323-6766415544c7"
      },
      "execution_count": null,
      "outputs": [
        {
          "output_type": "stream",
          "name": "stdout",
          "text": [
            "()\n",
            "hello\n",
            "<class 'str'>\n",
            "('hello',)\n",
            "<class 'tuple'>\n"
          ]
        }
      ]
    },
    {
      "cell_type": "code",
      "source": [
        "# homo\n",
        "t4 = (1,2,3,4)\n",
        "print(t4)\n",
        "\n",
        "# hetro\n",
        "t5 = (1,2,3,True,[1,2,3])\n",
        "print(t5)"
      ],
      "metadata": {
        "colab": {
          "base_uri": "https://localhost:8080/"
        },
        "id": "B1RL2eaETpiU",
        "outputId": "aa90b76f-ec21-486e-d8f4-7bb41218110c"
      },
      "execution_count": null,
      "outputs": [
        {
          "output_type": "stream",
          "name": "stdout",
          "text": [
            "(1, 2, 3, 4)\n",
            "(1, 2, 3, True, [1, 2, 3])\n"
          ]
        }
      ]
    },
    {
      "cell_type": "code",
      "source": [
        "# 2d tuple\n",
        "t6 = (1,2,3,4,5,(5,6,9))\n",
        "print(t6)"
      ],
      "metadata": {
        "colab": {
          "base_uri": "https://localhost:8080/"
        },
        "id": "5HZPiovaOyeg",
        "outputId": "92223007-8e8a-4ddd-d351-92091aa35345"
      },
      "execution_count": null,
      "outputs": [
        {
          "output_type": "stream",
          "name": "stdout",
          "text": [
            "(1, 2, 3, 4, 5, (5, 6, 9))\n"
          ]
        }
      ]
    },
    {
      "cell_type": "code",
      "execution_count": null,
      "metadata": {
        "colab": {
          "base_uri": "https://localhost:8080/"
        },
        "id": "okn78aEHMpSo",
        "outputId": "2f337876-210a-4cb4-cb2c-0a4b9d1750e0"
      },
      "outputs": [
        {
          "output_type": "stream",
          "name": "stdout",
          "text": [
            "('h', 'e', 'l', 'l', 'o')\n"
          ]
        }
      ],
      "source": [
        "# using type conversion\n",
        "t7 = tuple('hello')\n",
        "print(t7)"
      ]
    },
    {
      "cell_type": "markdown",
      "source": [
        "**Difference between Lists and tuple**\n",
        "\n",
        "\n",
        "\n",
        "1.   Syntax\n",
        "2.   Mutability\n",
        "3.   speed\n",
        "4.   Memory\n",
        "5.   Built in Functionality\n",
        "6.   Error Prone\n",
        "7.   Usability\n",
        "\n",
        "tuple aap jaha aapko yese application banane ho jaha sirf read only not change,tab aap tuple use karo,and jaha aapko in future bhi kuch changes karna ho tab aap list use karna"
      ],
      "metadata": {
        "id": "CiZQg0ECYdIm"
      }
    },
    {
      "cell_type": "code",
      "source": [
        "# special syntax\n",
        "\n",
        "a,b,c = (1,2,3)\n",
        "print(a,b,c)"
      ],
      "metadata": {
        "colab": {
          "base_uri": "https://localhost:8080/"
        },
        "id": "D4U0yZ9LbMpL",
        "outputId": "872fe8af-a243-4450-d5dc-09144825192c"
      },
      "execution_count": null,
      "outputs": [
        {
          "output_type": "stream",
          "name": "stdout",
          "text": [
            "1 2 3\n"
          ]
        }
      ]
    },
    {
      "cell_type": "code",
      "source": [
        "#zipping tupple\n",
        "a = (1,2,3,4)\n",
        "b = (5,6,7,8)\n",
        "\n",
        "list(zip(a,b))"
      ],
      "metadata": {
        "colab": {
          "base_uri": "https://localhost:8080/"
        },
        "id": "swvzh5BBbbvc",
        "outputId": "dee951cf-5bba-4243-93cc-f1b92fbbf88e"
      },
      "execution_count": null,
      "outputs": [
        {
          "output_type": "execute_result",
          "data": {
            "text/plain": [
              "[(1, 5), (2, 6), (3, 7), (4, 8)]"
            ]
          },
          "metadata": {},
          "execution_count": 8
        }
      ]
    }
  ]
}