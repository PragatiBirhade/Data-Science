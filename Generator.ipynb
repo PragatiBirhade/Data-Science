{
  "nbformat": 4,
  "nbformat_minor": 0,
  "metadata": {
    "colab": {
      "provenance": [],
      "authorship_tag": "ABX9TyPTAe+QXVGxU2AUgkRfDDO3",
      "include_colab_link": true
    },
    "kernelspec": {
      "name": "python3",
      "display_name": "Python 3"
    },
    "language_info": {
      "name": "python"
    }
  },
  "cells": [
    {
      "cell_type": "markdown",
      "metadata": {
        "id": "view-in-github",
        "colab_type": "text"
      },
      "source": [
        "<a href=\"https://colab.research.google.com/github/PragatiBirhade/Data-Science/blob/main/Generator.ipynb\" target=\"_parent\"><img src=\"https://colab.research.google.com/assets/colab-badge.svg\" alt=\"Open In Colab\"/></a>"
      ]
    },
    {
      "cell_type": "markdown",
      "source": [
        "#what is generator\n",
        "A generator in Python is a special type of iterator that generates values on-the-fly. It produces values using the yield keyword instead of returning them all at once like a regular function. This makes generators very memory efficient, especially when dealing with large datasets or infinite sequences."
      ],
      "metadata": {
        "id": "vYNmSp0WnQZN"
      }
    },
    {
      "cell_type": "markdown",
      "source": [
        "1.generator is nothing but iterator ko use karne ka aasan tarika\n",
        "\n",
        "2.generator is a function jisme **return** keyword nhi hota ,generator mai ** yield ** keyword hota hai\n",
        "\n",
        "3.generator apna kam one by on ekarta hai like if first time usne 1 print kiya to next time call karte vakt usko pata hota hai ki usne pehle 1 print kiya tha so now usko 2 print karna hai ,but normal dunction mai yesa nhi hota vo whole code hi bar print karte hai"
      ],
      "metadata": {
        "id": "B4aZGS7hs4NW"
      }
    },
    {
      "cell_type": "markdown",
      "source": [
        "#why we use iterator?\n"
      ],
      "metadata": {
        "id": "bzhkN821rVji"
      }
    },
    {
      "cell_type": "code",
      "execution_count": 2,
      "metadata": {
        "colab": {
          "base_uri": "https://localhost:8080/"
        },
        "id": "jXGn-KsgUDgj",
        "outputId": "47ee454b-8c4c-4310-e068-a7d8940388a9"
      },
      "outputs": [
        {
          "output_type": "execute_result",
          "data": {
            "text/plain": [
              "800984"
            ]
          },
          "metadata": {},
          "execution_count": 2
        }
      ],
      "source": [
        "L = [x for x in range(100000)]\n",
        "\n",
        "#for i in L:\n",
        "  #print(i ** 2)\n",
        "\n",
        "import sys\n",
        "sys.getsizeof(L)\n"
      ]
    },
    {
      "cell_type": "markdown",
      "source": [],
      "metadata": {
        "id": "zx9imIWCcRZG"
      }
    },
    {
      "cell_type": "code",
      "source": [
        "# range function is example of iteration\n",
        "\n",
        "import sys\n",
        "sys.getsizeof(L)\n",
        "\n",
        "x = range(10000000)\n",
        "\n",
        "\n",
        "#for i in x:\n",
        "  #print(i **2)\n",
        "sys.getsizeof(x)"
      ],
      "metadata": {
        "colab": {
          "base_uri": "https://localhost:8080/"
        },
        "id": "xVsouwAxseUN",
        "outputId": "021a53a7-c2f7-49fa-cf2f-0abf5669832e"
      },
      "execution_count": 3,
      "outputs": [
        {
          "output_type": "execute_result",
          "data": {
            "text/plain": [
              "48"
            ]
          },
          "metadata": {},
          "execution_count": 3
        }
      ]
    },
    {
      "cell_type": "markdown",
      "source": [
        "#examples of generator"
      ],
      "metadata": {
        "id": "bvUy_pfttzfa"
      }
    },
    {
      "cell_type": "code",
      "source": [
        "def gen_demo():\n",
        "  yield \"first statement\"\n",
        "  yield \"second statement\"\n",
        "  yield \"third statement\"\n",
        "\n"
      ],
      "metadata": {
        "id": "ETmQjFo9t2Yl"
      },
      "execution_count": 9,
      "outputs": []
    },
    {
      "cell_type": "code",
      "source": [
        "gen = gen_demo()\n",
        "print(next(gen))\n",
        "print(next(gen))\n",
        "print(next(gen))"
      ],
      "metadata": {
        "colab": {
          "base_uri": "https://localhost:8080/"
        },
        "id": "TetzAIYBu5s4",
        "outputId": "d6247c84-97b7-481b-864c-381922dfad32"
      },
      "execution_count": 11,
      "outputs": [
        {
          "output_type": "stream",
          "name": "stdout",
          "text": [
            "first statement\n",
            "second statement\n",
            "third statement\n"
          ]
        }
      ]
    },
    {
      "cell_type": "code",
      "source": [
        "# using loops\n",
        "\n",
        "def gen_demo():\n",
        "  yield \"first statement\"\n",
        "  yield \"second statement\"\n",
        "  yield \"third statement\"\n",
        "\n",
        "gen = gen_demo()\n",
        "\n",
        "for i in gen:\n",
        "  print(i)"
      ],
      "metadata": {
        "colab": {
          "base_uri": "https://localhost:8080/"
        },
        "id": "_aVMWUefwr1C",
        "outputId": "9fd33657-2d07-439d-b5ad-dde7234ecbe0"
      },
      "execution_count": 12,
      "outputs": [
        {
          "output_type": "stream",
          "name": "stdout",
          "text": [
            "first statement\n",
            "second statement\n",
            "third statement\n"
          ]
        }
      ]
    },
    {
      "cell_type": "code",
      "source": [
        "# Example 2\n",
        "\n",
        "def sqaure(num):\n",
        "  for i in range(1,num+1):\n",
        "    yield i**2"
      ],
      "metadata": {
        "id": "34efF7VSy7AR"
      },
      "execution_count": 15,
      "outputs": []
    },
    {
      "cell_type": "code",
      "source": [
        "gen = sqaure(10)\n",
        "\n",
        "print(next(gen))\n",
        "print(next(gen))\n",
        "\n",
        "for i in gen:\n",
        "  print (i)"
      ],
      "metadata": {
        "colab": {
          "base_uri": "https://localhost:8080/"
        },
        "id": "udkT0zkjzjSA",
        "outputId": "bdfe4bb4-a773-4a39-c1c8-e7aa8dacf02e"
      },
      "execution_count": 16,
      "outputs": [
        {
          "output_type": "stream",
          "name": "stdout",
          "text": [
            "1\n",
            "4\n",
            "9\n",
            "16\n",
            "25\n",
            "36\n",
            "49\n",
            "64\n",
            "81\n",
            "100\n"
          ]
        }
      ]
    },
    {
      "cell_type": "markdown",
      "source": [
        "# Range Function Using Generator"
      ],
      "metadata": {
        "id": "2c-DUJc00HrD"
      }
    },
    {
      "cell_type": "code",
      "source": [
        "def my_range(start,end):\n",
        "  for i in range(start,end):\n",
        "    yield i\n",
        "\n",
        "for i in my_range(15,67):\n",
        "  print(i)\n"
      ],
      "metadata": {
        "id": "ncXm1Whb0NDk"
      },
      "execution_count": null,
      "outputs": []
    },
    {
      "cell_type": "markdown",
      "source": [
        "#Generator Expression"
      ],
      "metadata": {
        "id": "R86LLUaUY16-"
      }
    },
    {
      "cell_type": "code",
      "source": [
        "#List compression\n",
        "L = [i**2 for i in range(1,10)]\n",
        "L"
      ],
      "metadata": {
        "colab": {
          "base_uri": "https://localhost:8080/"
        },
        "id": "rNhXa8WGY6C_",
        "outputId": "410454e7-6632-4136-cf0f-c1f7fd5f0c5c"
      },
      "execution_count": 2,
      "outputs": [
        {
          "output_type": "execute_result",
          "data": {
            "text/plain": [
              "[1, 4, 9, 16, 25, 36, 49, 64, 81]"
            ]
          },
          "metadata": {},
          "execution_count": 2
        }
      ]
    },
    {
      "cell_type": "code",
      "source": [
        "gen = (i**2 for i in range(1,20))\n",
        "\n",
        "for i in gen:\n",
        "  print(i)"
      ],
      "metadata": {
        "colab": {
          "base_uri": "https://localhost:8080/"
        },
        "id": "oVhupR1MZNZj",
        "outputId": "f95256bd-af11-4898-e2e5-4a1cc08686dc"
      },
      "execution_count": 4,
      "outputs": [
        {
          "output_type": "stream",
          "name": "stdout",
          "text": [
            "1\n",
            "4\n",
            "9\n",
            "16\n",
            "25\n",
            "36\n",
            "49\n",
            "64\n",
            "81\n",
            "100\n",
            "121\n",
            "144\n",
            "169\n",
            "196\n",
            "225\n",
            "256\n",
            "289\n",
            "324\n",
            "361\n"
          ]
        }
      ]
    },
    {
      "cell_type": "markdown",
      "source": [
        "# Practical Example"
      ],
      "metadata": {
        "id": "wgCJkfRSZsoz"
      }
    },
    {
      "cell_type": "code",
      "source": [
        "import os\n",
        "import cv2\n",
        "\n",
        "def image_data_reader(folder_path):\n",
        ""
      ],
      "metadata": {
        "id": "-cjEa9iTZxIC"
      },
      "execution_count": null,
      "outputs": []
    },
    {
      "cell_type": "markdown",
      "source": [
        "# Benifits of using a Generator"
      ],
      "metadata": {
        "id": "iTZgT_p0cTds"
      }
    },
    {
      "cell_type": "markdown",
      "source": [
        "1. Ease of Implementation\n",
        "2. Memory Efficient\n",
        "3.Representing infinite streams\n",
        "4.chaining generator"
      ],
      "metadata": {
        "id": "OcCyl6Mxcb3B"
      }
    },
    {
      "cell_type": "code",
      "source": [
        "class my_range:\n",
        "  def __init__(self,start,end):\n",
        "    self.start = start\n",
        "    self.end = end\n",
        "\n",
        "  def __iter__(self):\n",
        "    return my_range(self)"
      ],
      "metadata": {
        "id": "FpdtJH6uZr2i"
      },
      "execution_count": 6,
      "outputs": []
    },
    {
      "cell_type": "code",
      "source": [
        "# representing Infinite streams\n",
        "def all_even():\n",
        "  n = 0\n",
        "  while True:\n",
        "    yield n\n",
        "    n += 2\n",
        "\n",
        "even_num = all_even()\n",
        "for i in even_num:\n",
        "  print(i)\n"
      ],
      "metadata": {
        "id": "TJRAqEK_e4U9"
      },
      "execution_count": null,
      "outputs": []
    },
    {
      "cell_type": "code",
      "source": [
        "# 4. chaining generator\n",
        "\n"
      ],
      "metadata": {
        "id": "3fK0f3ryf9iE"
      },
      "execution_count": null,
      "outputs": []
    }
  ]
}